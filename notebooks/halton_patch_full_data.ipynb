{
 "cells": [
  {
   "cell_type": "markdown",
   "metadata": {},
   "source": [
    "## Experimento de selección 5 halton patches SIN undersampling"
   ]
  },
  {
   "cell_type": "code",
   "execution_count": 1,
   "metadata": {
    "collapsed": true
   },
   "outputs": [],
   "source": [
    "import os\n",
    "import numpy as np\n",
    "from sklearn.metrics import accuracy_score, f1_score, precision_score, recall_score, classification_report\n",
    "from matplotlib import pyplot as plt"
   ]
  },
  {
   "cell_type": "markdown",
   "metadata": {},
   "source": [
    "## Deep"
   ]
  },
  {
   "cell_type": "code",
   "execution_count": 13,
   "metadata": {
    "collapsed": true
   },
   "outputs": [],
   "source": [
    "images = [\"1+_20\", \"1+_25\", \"2+_1\", \"2+_8\",\"2+_9\",\"3+_19\"]\n",
    "type_im = [\"1+\",\"1+\",\"2+\",\"2+\", \"2+\",\"3+\"]\n"
   ]
  },
  {
   "cell_type": "code",
   "execution_count": 14,
   "metadata": {},
   "outputs": [
    {
     "name": "stderr",
     "output_type": "stream",
     "text": [
      "/home/rpezoa/anaconda3/lib/python3.6/site-packages/sklearn/metrics/classification.py:1113: UndefinedMetricWarning: F-score is ill-defined and being set to 0.0 due to no predicted samples.\n",
      "  'precision', 'predicted', average, warn_for)\n",
      "/home/rpezoa/anaconda3/lib/python3.6/site-packages/sklearn/metrics/classification.py:1113: UndefinedMetricWarning: Precision is ill-defined and being set to 0.0 due to no predicted samples.\n",
      "  'precision', 'predicted', average, warn_for)\n"
     ]
    }
   ],
   "source": [
    "n_seeds = 10\n",
    "n_im = len(images)\n",
    "f1 = np.zeros((n_im,n_seeds))\n",
    "prec = np.zeros((n_im,n_seeds))\n",
    "rec = np.zeros((n_im,n_seeds))\n",
    "for i in range(n_im):\n",
    "    path = \"/home/rpezoa/experiment_data/output/\" + images[i]+ \"_rpr_halton_patches/\"\n",
    "    f = os.listdir(path)\n",
    "    #print(f)\n",
    "    big_target_path=\"/home/rpezoa/experiment_data/big_\" + type_im[i] + \"/labels/\" + images[i] + \".npy\"\n",
    "    \n",
    "    for j in range(n_seeds):\n",
    "        big_y0=np.load(big_target_path)\n",
    "        big_pred = np.load(path + 'deep_0/big_pred/' + str(j) + '_big_pred.npy')\n",
    "        f1[i,j] = f1_score(big_y0,big_pred)\n",
    "        prec[i,j] = precision_score(big_y0,big_pred)\n",
    "        rec[i,j] = recall_score(big_y0,big_pred)\n",
    "        #print(classification_report(big_y0,big_pred))\n",
    "                "
   ]
  },
  {
   "cell_type": "code",
   "execution_count": 15,
   "metadata": {},
   "outputs": [
    {
     "name": "stdout",
     "output_type": "stream",
     "text": [
      "0.309221424625 0.515588741152 0.232308332758\n",
      "(6, 10)\n"
     ]
    }
   ],
   "source": [
    "print(f1.mean(),prec.mean(),rec.mean())\n",
    "print(f1.shape)\n",
    "np.save(\"/home/rpezoa/experiment_data/output/f1_halton_deep_0.npy\",f1)\n",
    "np.save(\"/home/rpezoa/experiment_data/output/prec_halton_deep_0.npy\",prec)"
   ]
  },
  {
   "cell_type": "code",
   "execution_count": null,
   "metadata": {
    "collapsed": true
   },
   "outputs": [],
   "source": [
    "print"
   ]
  },
  {
   "cell_type": "code",
   "execution_count": 18,
   "metadata": {},
   "outputs": [
    {
     "data": {
      "image/png": "[encoded data removed]",
      "text/plain": [
       "<matplotlib.figure.Figure at 0x7f2276cfbb00>"
      ]
     },
     "metadata": {},
     "output_type": "display_data"
    }
   ],
   "source": [
    "plt.figure()\n",
    "plt.plot(range(1,7),f1[:,0],'o')\n",
    "plt.plot(range(1,7),prec[:,0],'om')\n",
    "#plt.plot(range(1,n+1),rec,'o-y')\n",
    "plt.grid()\n",
    "plt.show()"
   ]
  },
  {
   "cell_type": "code",
   "execution_count": 19,
   "metadata": {},
   "outputs": [
    {
     "data": {
      "image/png": "[encoded data removed]",
      "text/plain": [
       "<matplotlib.figure.Figure at 0x7f2276dbac18>"
      ]
     },
     "metadata": {},
     "output_type": "display_data"
    }
   ],
   "source": [
    "plt.figure()\n",
    "plt.boxplot(f1.T)\n",
    "#plt.boxplot(prec)\n",
    "plt.grid()\n",
    "plt.ylim(0,0.6)\n",
    "plt.show()"
   ]
  },
  {
   "cell_type": "markdown",
   "metadata": {},
   "source": [
    "## SVM"
   ]
  },
  {
   "cell_type": "code",
   "execution_count": 20,
   "metadata": {},
   "outputs": [],
   "source": [
    "images = [\"1+_20\", \"1+_25\", \"2+_1\",\"2+_8\",\"2+_9\",\"3+_19\"]\n",
    "type_im = [\"1+\",\"1+\",\"2+\",\"2+\",\"2+\",\"3+\"]\n",
    "\n",
    "n_seeds = 10\n",
    "n_im = len(images)\n",
    "f1 = np.zeros((n_im,n_seeds))\n",
    "prec = np.zeros((n_im,n_seeds))\n",
    "rec = np.zeros((n_im,n_seeds))\n",
    "for i in range(n_im):\n",
    "    path = \"/home/rpezoa/experiment_data/output/\" + images[i]+ \"_rpr_halton_patches/\"\n",
    "    f = os.listdir(path)\n",
    "    #print(f)\n",
    "    big_target_path=\"/home/rpezoa/experiment_data/big_\" + type_im[i] + \"/labels/\" + images[i] + \".npy\"\n",
    "    \n",
    "    for j in range(n_seeds):\n",
    "        big_y0=np.load(big_target_path)\n",
    "        big_pred = np.load(path + 'svm_0/big_pred/' + str(j) + '_big_pred.npy')\n",
    "        f1[i,j] = f1_score(big_y0,big_pred)\n",
    "        prec[i,j] = precision_score(big_y0,big_pred)\n",
    "        rec[i,j] = recall_score(big_y0,big_pred)\n",
    "        #print(classification_report(big_y0,big_pred))"
   ]
  },
  {
   "cell_type": "code",
   "execution_count": 22,
   "metadata": {},
   "outputs": [
    {
     "name": "stdout",
     "output_type": "stream",
     "text": [
      "0.328159167488 0.360060038127 0.314959404976\n",
      "[[ 0.40016428  0.38854967  0.3339302   0.34262284  0.36631994  0.36236431\n",
      "   0.37996689  0.35055871  0.36458692  0.36925155]\n",
      " [ 0.24794797  0.24839818  0.256445    0.24911902  0.2092711   0.22115865\n",
      "   0.22019317  0.25694698  0.26850798  0.25335518]\n",
      " [ 0.29123337  0.32354998  0.34964921  0.26143747  0.3146979   0.29944589\n",
      "   0.29814851  0.29865001  0.3030664   0.34738251]\n",
      " [ 0.35313731  0.29844155  0.38381794  0.32461057  0.31921979  0.28749033\n",
      "   0.27756964  0.33247895  0.32766714  0.25677346]\n",
      " [ 0.43460065  0.40585009  0.40256253  0.4661144   0.40454709  0.46255657\n",
      "   0.42737536  0.48507882  0.36321777  0.39169869]\n",
      " [ 0.35052368  0.30345378  0.28014178  0.33665968  0.29794352  0.26464842\n",
      "   0.32402437  0.30186587  0.33360104  0.31495947]]\n"
     ]
    }
   ],
   "source": [
    "print(f1.mean(),prec.mean(),rec.mean())\n",
    "print(f1)\n",
    "np.save(\"/home/rpezoa/experiment_data/output/f1_halton_svm_0.npy\",f1)\n",
    "np.save(\"/home/rpezoa/experiment_data/output/prec_halton_svm_0.npy\",prec)"
   ]
  },
  {
   "cell_type": "code",
   "execution_count": 23,
   "metadata": {},
   "outputs": [
    {
     "data": {
      "image/png": "[encoded data removed]",
      "text/plain": [
       "<matplotlib.figure.Figure at 0x7f2276e16860>"
      ]
     },
     "metadata": {},
     "output_type": "display_data"
    }
   ],
   "source": [
    "plt.figure()\n",
    "plt.boxplot(f1.T)\n",
    "#plt.boxplot(prec)\n",
    "plt.grid()\n",
    "plt.ylim(0,0.7)\n",
    "plt.show()"
   ]
  },
  {
   "cell_type": "code",
   "execution_count": 24,
   "metadata": {},
   "outputs": [
    {
     "data": {
      "image/png": "[encoded data removed]",
      "text/plain": [
       "<matplotlib.figure.Figure at 0x7f2276cdaa58>"
      ]
     },
     "metadata": {},
     "output_type": "display_data"
    }
   ],
   "source": [
    "plt.figure()\n",
    "plt.boxplot(prec.T)\n",
    "#plt.boxplot(prec)\n",
    "plt.grid()\n",
    "plt.ylim(0,0.7)\n",
    "plt.show()"
   ]
  },
  {
   "cell_type": "markdown",
   "metadata": {},
   "source": [
    "## Random Forest"
   ]
  },
  {
   "cell_type": "code",
   "execution_count": 25,
   "metadata": {},
   "outputs": [
    {
     "name": "stdout",
     "output_type": "stream",
     "text": [
      "0.347061949793 0.526629290438 0.26609447745\n",
      "[[ 0.45077328  0.45641287  0.40458822  0.40683626  0.45213095  0.45192308\n",
      "   0.39195774  0.42657248  0.45487014  0.40394678]\n",
      " [ 0.32686802  0.30663706  0.30319201  0.29216851  0.20620928  0.26203528\n",
      "   0.30753732  0.29663874  0.25364136  0.28806297]\n",
      " [ 0.25587079  0.33854005  0.36634718  0.33335872  0.28930244  0.24347884\n",
      "   0.2822621   0.26538908  0.33786124  0.31250494]\n",
      " [ 0.36200635  0.34048174  0.41308212  0.37153915  0.38747728  0.33491912\n",
      "   0.41136736  0.39339499  0.37413259  0.39117522]\n",
      " [ 0.39429498  0.36563211  0.38548042  0.46532746  0.40719366  0.42556231\n",
      "   0.44643679  0.51675641  0.39426958  0.42170033]\n",
      " [ 0.30836208  0.21336465  0.19368179  0.29381633  0.24281794  0.23627707\n",
      "   0.28193159  0.32450958  0.30248776  0.25632052]]\n"
     ]
    },
    {
     "data": {
      "image/png": "[encoded data removed]",
      "text/plain": [
       "<matplotlib.figure.Figure at 0x7f2276f2e7b8>"
      ]
     },
     "metadata": {},
     "output_type": "display_data"
    }
   ],
   "source": [
    "images = [\"1+_20\", \"1+_25\", \"2+_1\",\"2+_8\",\"2+_9\",\"3+_19\"]\n",
    "type_im = [\"1+\",\"1+\",\"2+\",\"2+\",\"2+\",\"3+\"]\n",
    "\n",
    "n_seeds = 10\n",
    "n_im = len(images)\n",
    "f1 = np.zeros((n_im,n_seeds))\n",
    "prec = np.zeros((n_im,n_seeds))\n",
    "rec = np.zeros((n_im,n_seeds))\n",
    "for i in range(n_im):\n",
    "    path = \"/home/rpezoa/experiment_data/output/\" + images[i]+ \"_rpr_halton_patches/\"\n",
    "    f = os.listdir(path)\n",
    "    #print(f)\n",
    "    big_target_path=\"/home/rpezoa/experiment_data/big_\" + type_im[i] + \"/labels/\" + images[i] + \".npy\"\n",
    "    \n",
    "    for j in range(n_seeds):\n",
    "        big_y0=np.load(big_target_path)\n",
    "        big_pred = np.load(path + 'rf_0/big_pred/' + str(j) + '_big_pred.npy')\n",
    "        f1[i,j] = f1_score(big_y0,big_pred)\n",
    "        prec[i,j] = precision_score(big_y0,big_pred)\n",
    "        rec[i,j] = recall_score(big_y0,big_pred)\n",
    "        #print(classification_report(big_y0,big_pred))\n",
    "        \n",
    "print(f1.mean(),prec.mean(),rec.mean())\n",
    "print(f1)\n",
    "np.save(\"/home/rpezoa/experiment_data/output/f1_halton_rf_0.npy\",f1)\n",
    "np.save(\"/home/rpezoa/experiment_data/output/prec_halton_rf_0.npy\",prec)\n",
    "\n",
    "plt.figure()\n",
    "plt.boxplot(f1.T)\n",
    "#plt.boxplot(prec)\n",
    "plt.grid()\n",
    "plt.ylim(0,0.7)\n",
    "plt.show()"
   ]
  },
  {
   "cell_type": "markdown",
   "metadata": {},
   "source": [
    "## KNN"
   ]
  },
  {
   "cell_type": "code",
   "execution_count": 26,
   "metadata": {},
   "outputs": [
    {
     "ename": "FileNotFoundError",
     "evalue": "[Errno 2] No such file or directory: '/home/rpezoa/experiment_data/output/1+_20_rpr_halton_patches/knn_0/big_pred/0_big_pred.npy'",
     "output_type": "error",
     "traceback": [
      "\u001b[0;31m---------------------------------------------------------------------------\u001b[0m",
      "\u001b[0;31mFileNotFoundError\u001b[0m                         Traceback (most recent call last)",
      "\u001b[0;32m<ipython-input-26-6312ec02ebc7>\u001b[0m in \u001b[0;36m<module>\u001b[0;34m()\u001b[0m\n\u001b[1;32m     15\u001b[0m     \u001b[0;32mfor\u001b[0m \u001b[0mj\u001b[0m \u001b[0;32min\u001b[0m \u001b[0mrange\u001b[0m\u001b[0;34m(\u001b[0m\u001b[0mn_seeds\u001b[0m\u001b[0;34m)\u001b[0m\u001b[0;34m:\u001b[0m\u001b[0;34m\u001b[0m\u001b[0m\n\u001b[1;32m     16\u001b[0m         \u001b[0mbig_y0\u001b[0m\u001b[0;34m=\u001b[0m\u001b[0mnp\u001b[0m\u001b[0;34m.\u001b[0m\u001b[0mload\u001b[0m\u001b[0;34m(\u001b[0m\u001b[0mbig_target_path\u001b[0m\u001b[0;34m)\u001b[0m\u001b[0;34m\u001b[0m\u001b[0m\n\u001b[0;32m---> 17\u001b[0;31m         \u001b[0mbig_pred\u001b[0m \u001b[0;34m=\u001b[0m \u001b[0mnp\u001b[0m\u001b[0;34m.\u001b[0m\u001b[0mload\u001b[0m\u001b[0;34m(\u001b[0m\u001b[0mpath\u001b[0m \u001b[0;34m+\u001b[0m \u001b[0;34m'knn_0/big_pred/'\u001b[0m \u001b[0;34m+\u001b[0m \u001b[0mstr\u001b[0m\u001b[0;34m(\u001b[0m\u001b[0mj\u001b[0m\u001b[0;34m)\u001b[0m \u001b[0;34m+\u001b[0m \u001b[0;34m'_big_pred.npy'\u001b[0m\u001b[0;34m)\u001b[0m\u001b[0;34m\u001b[0m\u001b[0m\n\u001b[0m\u001b[1;32m     18\u001b[0m         \u001b[0mf1\u001b[0m\u001b[0;34m[\u001b[0m\u001b[0mi\u001b[0m\u001b[0;34m,\u001b[0m\u001b[0mj\u001b[0m\u001b[0;34m]\u001b[0m \u001b[0;34m=\u001b[0m \u001b[0mf1_score\u001b[0m\u001b[0;34m(\u001b[0m\u001b[0mbig_y0\u001b[0m\u001b[0;34m,\u001b[0m\u001b[0mbig_pred\u001b[0m\u001b[0;34m)\u001b[0m\u001b[0;34m\u001b[0m\u001b[0m\n\u001b[1;32m     19\u001b[0m         \u001b[0mprec\u001b[0m\u001b[0;34m[\u001b[0m\u001b[0mi\u001b[0m\u001b[0;34m,\u001b[0m\u001b[0mj\u001b[0m\u001b[0;34m]\u001b[0m \u001b[0;34m=\u001b[0m \u001b[0mprecision_score\u001b[0m\u001b[0;34m(\u001b[0m\u001b[0mbig_y0\u001b[0m\u001b[0;34m,\u001b[0m\u001b[0mbig_pred\u001b[0m\u001b[0;34m)\u001b[0m\u001b[0;34m\u001b[0m\u001b[0m\n",
      "\u001b[0;32m/home/rpezoa/anaconda3/lib/python3.6/site-packages/numpy/lib/npyio.py\u001b[0m in \u001b[0;36mload\u001b[0;34m(file, mmap_mode, allow_pickle, fix_imports, encoding)\u001b[0m\n\u001b[1;32m    368\u001b[0m     \u001b[0mown_fid\u001b[0m \u001b[0;34m=\u001b[0m \u001b[0;32mFalse\u001b[0m\u001b[0;34m\u001b[0m\u001b[0m\n\u001b[1;32m    369\u001b[0m     \u001b[0;32mif\u001b[0m \u001b[0misinstance\u001b[0m\u001b[0;34m(\u001b[0m\u001b[0mfile\u001b[0m\u001b[0;34m,\u001b[0m \u001b[0mbasestring\u001b[0m\u001b[0;34m)\u001b[0m\u001b[0;34m:\u001b[0m\u001b[0;34m\u001b[0m\u001b[0m\n\u001b[0;32m--> 370\u001b[0;31m         \u001b[0mfid\u001b[0m \u001b[0;34m=\u001b[0m \u001b[0mopen\u001b[0m\u001b[0;34m(\u001b[0m\u001b[0mfile\u001b[0m\u001b[0;34m,\u001b[0m \u001b[0;34m\"rb\"\u001b[0m\u001b[0;34m)\u001b[0m\u001b[0;34m\u001b[0m\u001b[0m\n\u001b[0m\u001b[1;32m    371\u001b[0m         \u001b[0mown_fid\u001b[0m \u001b[0;34m=\u001b[0m \u001b[0;32mTrue\u001b[0m\u001b[0;34m\u001b[0m\u001b[0m\n\u001b[1;32m    372\u001b[0m     \u001b[0;32melif\u001b[0m \u001b[0mis_pathlib_path\u001b[0m\u001b[0;34m(\u001b[0m\u001b[0mfile\u001b[0m\u001b[0;34m)\u001b[0m\u001b[0;34m:\u001b[0m\u001b[0;34m\u001b[0m\u001b[0m\n",
      "\u001b[0;31mFileNotFoundError\u001b[0m: [Errno 2] No such file or directory: '/home/rpezoa/experiment_data/output/1+_20_rpr_halton_patches/knn_0/big_pred/0_big_pred.npy'"
     ]
    }
   ],
   "source": [
    "images = [\"1+_20\", \"1+_25\", \"2+_1\",\"2+_8\",\"2+_9\",\"3+_19\"]\n",
    "type_im = [\"1+\",\"1+\",\"2+\",\"2+\",\"2+\",\"3+\"]\n",
    "\n",
    "n_seeds = 10\n",
    "n_im = len(images)\n",
    "f1 = np.zeros((n_im,n_seeds))\n",
    "prec = np.zeros((n_im,n_seeds))\n",
    "rec = np.zeros((n_im,n_seeds))\n",
    "for i in range(n_im):\n",
    "    path = \"/home/rpezoa/experiment_data/output/\" + images[i]+ \"_rpr_halton_patches/\"\n",
    "    f = os.listdir(path)\n",
    "    #print(f)\n",
    "    big_target_path=\"/home/rpezoa/experiment_data/big_\" + type_im[i] + \"/labels/\" + images[i] + \".npy\"\n",
    "    \n",
    "    for j in range(n_seeds):\n",
    "        big_y0=np.load(big_target_path)\n",
    "        big_pred = np.load(path + 'knn_0/big_pred/' + str(j) + '_big_pred.npy')\n",
    "        f1[i,j] = f1_score(big_y0,big_pred)\n",
    "        prec[i,j] = precision_score(big_y0,big_pred)\n",
    "        rec[i,j] = recall_score(big_y0,big_pred)\n",
    "        #print(classification_report(big_y0,big_pred))\n",
    "        \n",
    "f1.mean(),prec.mean(),rec.mean()\n",
    "print(f1)\n",
    "np.save(\"/home/rpezoa/experiment_data/output/f1_halton_knn_0.npy\",f1)\n",
    "np.save(\"/home/rpezoa/experiment_data/output/prec_halton_knn_0.npy\",prec)\n",
    "\n",
    "plt.figure()\n",
    "plt.boxplot(f1.T)\n",
    "#plt.boxplot(prec)\n",
    "plt.grid()\n",
    "plt.ylim(0,0.7)\n",
    "plt.show()"
   ]
  },
  {
   "cell_type": "markdown",
   "metadata": {},
   "source": [
    "## Extra Trees"
   ]
  },
  {
   "cell_type": "code",
   "execution_count": 27,
   "metadata": {},
   "outputs": [
    {
     "name": "stdout",
     "output_type": "stream",
     "text": [
      "0.342087834012 0.51521590717 0.263160059421\n",
      "[[ 0.43992854  0.45108527  0.40073933  0.4030486   0.44398595  0.44752857\n",
      "   0.38398942  0.41241848  0.43923642  0.39523476]\n",
      " [ 0.30692971  0.29802725  0.30022412  0.28833026  0.20804612  0.27183959\n",
      "   0.30273854  0.28472763  0.24588587  0.2862231 ]\n",
      " [ 0.22729917  0.29292454  0.36648223  0.31393944  0.28735668  0.24194815\n",
      "   0.25732263  0.24538268  0.34049477  0.32274804]\n",
      " [ 0.36307553  0.33333333  0.40144014  0.36746475  0.37646493  0.33315832\n",
      "   0.40709465  0.39278843  0.37174611  0.39005273]\n",
      " [ 0.39719646  0.37580044  0.38684614  0.46650657  0.39573721  0.41383218\n",
      "   0.4410203   0.51832423  0.3979594   0.41586277]\n",
      " [ 0.31400744  0.22290345  0.19200962  0.28807311  0.24619137  0.23560269\n",
      "   0.28310333  0.33006735  0.30437469  0.25716648]]\n"
     ]
    },
    {
     "data": {
      "image/png": "[encoded data removed]",
      "text/plain": [
       "<matplotlib.figure.Figure at 0x7f2276e66b38>"
      ]
     },
     "metadata": {},
     "output_type": "display_data"
    }
   ],
   "source": [
    "images = [\"1+_20\", \"1+_25\", \"2+_1\",\"2+_8\",\"2+_9\",\"3+_19\"]\n",
    "type_im = [\"1+\",\"1+\",\"2+\",\"2+\",\"2+\",\"3+\"]\n",
    "\n",
    "n_seeds = 10\n",
    "n_im = len(images)\n",
    "f1 = np.zeros((n_im,n_seeds))\n",
    "prec = np.zeros((n_im,n_seeds))\n",
    "rec = np.zeros((n_im,n_seeds))\n",
    "for i in range(n_im):\n",
    "    path = \"/home/rpezoa/experiment_data/output/\" + images[i]+ \"_rpr_halton_patches/\"\n",
    "    f = os.listdir(path)\n",
    "    #print(f)\n",
    "    big_target_path=\"/home/rpezoa/experiment_data/big_\" + type_im[i] + \"/labels/\" + images[i] + \".npy\"\n",
    "    \n",
    "    for j in range(n_seeds):\n",
    "        big_y0=np.load(big_target_path)\n",
    "        big_pred = np.load(path + 'extra_trees_0/big_pred/' + str(j) + '_big_pred.npy')\n",
    "        f1[i,j] = f1_score(big_y0,big_pred)\n",
    "        prec[i,j] = precision_score(big_y0,big_pred)\n",
    "        rec[i,j] = recall_score(big_y0,big_pred)\n",
    "        #print(classification_report(big_y0,big_pred))\n",
    "        \n",
    "print(f1.mean(),prec.mean(),rec.mean())\n",
    "print(f1)\n",
    "np.save(\"/home/rpezoa/experiment_data/output/f1_halton_extra_trees_0.npy\",f1)\n",
    "np.save(\"/home/rpezoa/experiment_data/output/prec_halton_extra_trees_0.npy\",prec)\n",
    "\n",
    "plt.figure()\n",
    "plt.boxplot(f1.T)\n",
    "#plt.boxplot(prec)\n",
    "plt.grid()\n",
    "plt.ylim(0,0.7)\n",
    "plt.show()"
   ]
  },
  {
   "cell_type": "code",
   "execution_count": null,
   "metadata": {
    "collapsed": true
   },
   "outputs": [],
   "source": []
  }
 ],
 "metadata": {
  "kernelspec": {
   "display_name": "Python 3",
   "language": "python",
   "name": "python3"
  },
  "language_info": {
   "codemirror_mode": {
    "name": "ipython",
    "version": 3
   },
   "file_extension": ".py",
   "mimetype": "text/x-python",
   "name": "python",
   "nbconvert_exporter": "python",
   "pygments_lexer": "ipython3",
   "version": "3.6.1"
  }
 },
 "nbformat": 4,
 "nbformat_minor": 2
}
