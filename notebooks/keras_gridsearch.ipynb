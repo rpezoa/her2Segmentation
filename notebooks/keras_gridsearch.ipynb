{
 "cells": [
  {
   "cell_type": "code",
   "execution_count": 30,
   "metadata": {},
   "outputs": [],
   "source": [
    "#https://blogs.oracle.com/meena/simple-neural-network-model-using-keras-and-grid-search-hyperparameterstuning\n",
    "import keras\n",
    "from keras.datasets import mnist\n",
    "from keras.models import Sequential\n",
    "from keras.layers import Dense\n",
    "import numpy as np\n",
    "from sklearn.model_selection import GridSearchCV\n",
    "from keras.wrappers.scikit_learn import KerasClassifier\n"
   ]
  },
  {
   "cell_type": "code",
   "execution_count": 6,
   "metadata": {},
   "outputs": [],
   "source": [
    "seed = 7\n",
    "np.random.seed(seed)\n",
    "X= np.load(\"/home/rpezoa/experiment_data/big_2+/features/2+_1_rpr.npy\")\n",
    "y= np.load(\"/home/rpezoa/experiment_data/big_2+/labels/2+_1.npy\")"
   ]
  },
  {
   "cell_type": "code",
   "execution_count": 14,
   "metadata": {},
   "outputs": [],
   "source": [
    "def create_model():\n",
    "    activation=\"relu\"\n",
    "    init_mode = \"uniform\"\n",
    "    model = Sequential()\n",
    "    model.add(Dense(units = 8,  kernel_initializer=\"uniform\", activation=\"relu\", input_dim=40))\n",
    "    model.add(Dense(units = 1, kernel_initializer = 'uniform', activation = 'sigmoid'))\n",
    "    model.compile(optimizer = 'adam', loss = 'binary_crossentropy', metrics = ['accuracy'])\n",
    "    return model"
   ]
  },
  {
   "cell_type": "code",
   "execution_count": 15,
   "metadata": {},
   "outputs": [],
   "source": [
    "model = KerasClassifier(build_fn=create_model, batch_size=1000, epochs=10)"
   ]
  },
  {
   "cell_type": "code",
   "execution_count": 17,
   "metadata": {},
   "outputs": [
    {
     "name": "stdout",
     "output_type": "stream",
     "text": [
      "Epoch 1/1\n",
      "800/800 [==============================] - 1s 1ms/step - loss: 0.6930 - acc: 0.9013\n",
      "200/200 [==============================] - 0s 2ms/step\n",
      "800/800 [==============================] - 0s 3us/step\n",
      "Epoch 1/1\n",
      "800/800 [==============================] - 1s 1ms/step - loss: 0.6919 - acc: 0.9800\n",
      "200/200 [==============================] - 0s 2ms/step\n",
      "800/800 [==============================] - 0s 2us/step\n",
      "Epoch 1/1\n",
      "800/800 [==============================] - 1s 1ms/step - loss: 0.6967 - acc: 0.0175\n",
      "200/200 [==============================] - 0s 2ms/step\n",
      "800/800 [==============================] - 0s 2us/step\n",
      "Epoch 1/1\n",
      "800/800 [==============================] - 1s 1ms/step - loss: 0.6994 - acc: 0.0213\n",
      "200/200 [==============================] - 0s 2ms/step\n",
      "800/800 [==============================] - 0s 3us/step\n",
      "Epoch 1/1\n",
      "800/800 [==============================] - 1s 2ms/step - loss: 0.6943 - acc: 0.0175\n",
      "200/200 [==============================] - 0s 2ms/step\n",
      "800/800 [==============================] - 0s 2us/step\n",
      "Epoch 1/10\n",
      "800/800 [==============================] - 1s 1ms/step - loss: 0.6922 - acc: 0.9812\n",
      "Epoch 2/10\n",
      "800/800 [==============================] - 0s 7us/step - loss: 0.6908 - acc: 0.9812\n",
      "Epoch 3/10\n",
      "800/800 [==============================] - 0s 7us/step - loss: 0.6895 - acc: 0.9812\n",
      "Epoch 4/10\n",
      "800/800 [==============================] - 0s 4us/step - loss: 0.6880 - acc: 0.9812\n",
      "Epoch 5/10\n",
      "800/800 [==============================] - 0s 6us/step - loss: 0.6866 - acc: 0.9812\n",
      "Epoch 6/10\n",
      "800/800 [==============================] - 0s 4us/step - loss: 0.6851 - acc: 0.9812\n",
      "Epoch 7/10\n",
      "800/800 [==============================] - 0s 7us/step - loss: 0.6836 - acc: 0.9812\n",
      "Epoch 8/10\n",
      "800/800 [==============================] - 0s 4us/step - loss: 0.6820 - acc: 0.9812\n",
      "Epoch 9/10\n",
      "800/800 [==============================] - 0s 4us/step - loss: 0.6804 - acc: 0.9812\n",
      "Epoch 10/10\n",
      "800/800 [==============================] - 0s 5us/step - loss: 0.6788 - acc: 0.9812\n",
      "200/200 [==============================] - 0s 2ms/step\n",
      "800/800 [==============================] - 0s 2us/step\n",
      "Epoch 1/10\n",
      "800/800 [==============================] - 1s 1ms/step - loss: 0.6946 - acc: 0.0375\n",
      "Epoch 2/10\n",
      "800/800 [==============================] - 0s 4us/step - loss: 0.6929 - acc: 0.7088\n",
      "Epoch 3/10\n",
      "800/800 [==============================] - 0s 5us/step - loss: 0.6912 - acc: 0.9800\n",
      "Epoch 4/10\n",
      "800/800 [==============================] - 0s 9us/step - loss: 0.6895 - acc: 0.9800\n",
      "Epoch 5/10\n",
      "800/800 [==============================] - 0s 4us/step - loss: 0.6877 - acc: 0.9800\n",
      "Epoch 6/10\n",
      "800/800 [==============================] - 0s 5us/step - loss: 0.6860 - acc: 0.9800\n",
      "Epoch 7/10\n",
      "800/800 [==============================] - 0s 4us/step - loss: 0.6842 - acc: 0.9800\n",
      "Epoch 8/10\n",
      "800/800 [==============================] - 0s 5us/step - loss: 0.6824 - acc: 0.9800\n",
      "Epoch 9/10\n",
      "800/800 [==============================] - 0s 4us/step - loss: 0.6806 - acc: 0.9800\n",
      "Epoch 10/10\n",
      "800/800 [==============================] - 0s 5us/step - loss: 0.6787 - acc: 0.9800\n",
      "200/200 [==============================] - 0s 2ms/step\n",
      "800/800 [==============================] - 0s 3us/step\n",
      "Epoch 1/10\n",
      "800/800 [==============================] - 1s 1ms/step - loss: 0.6929 - acc: 0.7212\n",
      "Epoch 2/10\n",
      "800/800 [==============================] - 0s 4us/step - loss: 0.6912 - acc: 0.9825\n",
      "Epoch 3/10\n",
      "800/800 [==============================] - 0s 4us/step - loss: 0.6896 - acc: 0.9825\n",
      "Epoch 4/10\n",
      "800/800 [==============================] - 0s 3us/step - loss: 0.6880 - acc: 0.9825\n",
      "Epoch 5/10\n",
      "800/800 [==============================] - 0s 4us/step - loss: 0.6864 - acc: 0.9825\n",
      "Epoch 6/10\n",
      "800/800 [==============================] - 0s 4us/step - loss: 0.6847 - acc: 0.9825\n",
      "Epoch 7/10\n",
      "800/800 [==============================] - 0s 4us/step - loss: 0.6829 - acc: 0.9825\n",
      "Epoch 8/10\n",
      "800/800 [==============================] - 0s 5us/step - loss: 0.6811 - acc: 0.9825\n",
      "Epoch 9/10\n",
      "800/800 [==============================] - 0s 4us/step - loss: 0.6792 - acc: 0.9825\n",
      "Epoch 10/10\n",
      "800/800 [==============================] - 0s 4us/step - loss: 0.6773 - acc: 0.9825\n",
      "200/200 [==============================] - 0s 2ms/step\n",
      "800/800 [==============================] - 0s 2us/step\n",
      "Epoch 1/10\n",
      "800/800 [==============================] - 1s 1ms/step - loss: 0.6862 - acc: 0.9787\n",
      "Epoch 2/10\n",
      "800/800 [==============================] - 0s 4us/step - loss: 0.6841 - acc: 0.9787\n",
      "Epoch 3/10\n",
      "800/800 [==============================] - 0s 4us/step - loss: 0.6820 - acc: 0.9787\n",
      "Epoch 4/10\n",
      "800/800 [==============================] - 0s 4us/step - loss: 0.6798 - acc: 0.9787\n",
      "Epoch 5/10\n",
      "800/800 [==============================] - 0s 12us/step - loss: 0.6775 - acc: 0.9787\n",
      "Epoch 6/10\n",
      "800/800 [==============================] - 0s 4us/step - loss: 0.6751 - acc: 0.9787\n",
      "Epoch 7/10\n",
      "800/800 [==============================] - 0s 7us/step - loss: 0.6727 - acc: 0.9787\n",
      "Epoch 8/10\n",
      "800/800 [==============================] - 0s 5us/step - loss: 0.6702 - acc: 0.9787\n",
      "Epoch 9/10\n",
      "800/800 [==============================] - 0s 5us/step - loss: 0.6675 - acc: 0.9787\n",
      "Epoch 10/10\n",
      "800/800 [==============================] - 0s 7us/step - loss: 0.6648 - acc: 0.9787\n",
      "200/200 [==============================] - 0s 2ms/step\n",
      "800/800 [==============================] - 0s 3us/step\n",
      "Epoch 1/10\n",
      "800/800 [==============================] - 1s 1ms/step - loss: 0.6930 - acc: 0.8300\n",
      "Epoch 2/10\n",
      "800/800 [==============================] - 0s 4us/step - loss: 0.6917 - acc: 0.9825\n",
      "Epoch 3/10\n",
      "800/800 [==============================] - 0s 4us/step - loss: 0.6906 - acc: 0.9825\n",
      "Epoch 4/10\n",
      "800/800 [==============================] - 0s 4us/step - loss: 0.6897 - acc: 0.9825\n",
      "Epoch 5/10\n",
      "800/800 [==============================] - 0s 4us/step - loss: 0.6888 - acc: 0.9825\n",
      "Epoch 6/10\n",
      "800/800 [==============================] - 0s 5us/step - loss: 0.6878 - acc: 0.9825\n",
      "Epoch 7/10\n",
      "800/800 [==============================] - 0s 5us/step - loss: 0.6866 - acc: 0.9825\n",
      "Epoch 8/10\n",
      "800/800 [==============================] - 0s 6us/step - loss: 0.6853 - acc: 0.9825\n",
      "Epoch 9/10\n",
      "800/800 [==============================] - 0s 8us/step - loss: 0.6839 - acc: 0.9825\n",
      "Epoch 10/10\n",
      "800/800 [==============================] - 0s 6us/step - loss: 0.6824 - acc: 0.9825\n",
      "200/200 [==============================] - 0s 2ms/step\n",
      "800/800 [==============================] - 0s 3us/step\n",
      "Epoch 1/1\n",
      "800/800 [==============================] - 1s 1ms/step - loss: 0.6971 - acc: 0.0188\n",
      "200/200 [==============================] - 0s 2ms/step\n",
      "800/800 [==============================] - 0s 4us/step\n",
      "Epoch 1/1\n",
      "800/800 [==============================] - 1s 2ms/step - loss: 0.6947 - acc: 0.0200\n",
      "200/200 [==============================] - 1s 3ms/step\n",
      "800/800 [==============================] - 0s 3us/step\n",
      "Epoch 1/1\n",
      "800/800 [==============================] - 1s 2ms/step - loss: 0.6907 - acc: 0.9800\n",
      "200/200 [==============================] - 1s 3ms/step\n",
      "800/800 [==============================] - 0s 4us/step\n",
      "Epoch 1/1\n",
      "800/800 [==============================] - 1s 2ms/step - loss: 0.6933 - acc: 0.4313\n",
      "200/200 [==============================] - 0s 2ms/step\n",
      "800/800 [==============================] - 0s 3us/step\n",
      "Epoch 1/1\n",
      "800/800 [==============================] - 1s 2ms/step - loss: 0.6918 - acc: 0.9825\n",
      "200/200 [==============================] - 1s 3ms/step\n",
      "800/800 [==============================] - 0s 3us/step\n",
      "Epoch 1/10\n",
      "800/800 [==============================] - 1s 2ms/step - loss: 0.6927 - acc: 0.8900\n",
      "Epoch 2/10\n",
      "800/800 [==============================] - 0s 4us/step - loss: 0.6918 - acc: 0.9812\n",
      "Epoch 3/10\n",
      "800/800 [==============================] - 0s 3us/step - loss: 0.6905 - acc: 0.9812\n",
      "Epoch 4/10\n",
      "800/800 [==============================] - 0s 5us/step - loss: 0.6893 - acc: 0.9812\n",
      "Epoch 5/10\n",
      "800/800 [==============================] - 0s 4us/step - loss: 0.6881 - acc: 0.9812\n",
      "Epoch 6/10\n",
      "800/800 [==============================] - 0s 5us/step - loss: 0.6868 - acc: 0.9812\n",
      "Epoch 7/10\n",
      "800/800 [==============================] - 0s 6us/step - loss: 0.6856 - acc: 0.9812\n",
      "Epoch 8/10\n",
      "800/800 [==============================] - 0s 5us/step - loss: 0.6843 - acc: 0.9812\n",
      "Epoch 9/10\n",
      "800/800 [==============================] - 0s 5us/step - loss: 0.6829 - acc: 0.9812\n"
     ]
    },
    {
     "name": "stdout",
     "output_type": "stream",
     "text": [
      "Epoch 10/10\n",
      "800/800 [==============================] - 0s 4us/step - loss: 0.6815 - acc: 0.9812\n",
      "200/200 [==============================] - 1s 3ms/step\n",
      "800/800 [==============================] - 0s 3us/step\n",
      "Epoch 1/10\n",
      "800/800 [==============================] - 1s 2ms/step - loss: 0.6926 - acc: 0.8175\n",
      "Epoch 2/10\n",
      "800/800 [==============================] - 0s 4us/step - loss: 0.6908 - acc: 0.9800\n",
      "Epoch 3/10\n",
      "800/800 [==============================] - 0s 5us/step - loss: 0.6890 - acc: 0.9800\n",
      "Epoch 4/10\n",
      "800/800 [==============================] - 0s 5us/step - loss: 0.6872 - acc: 0.9800\n",
      "Epoch 5/10\n",
      "800/800 [==============================] - 0s 5us/step - loss: 0.6855 - acc: 0.9800\n",
      "Epoch 6/10\n",
      "800/800 [==============================] - 0s 4us/step - loss: 0.6838 - acc: 0.9800\n",
      "Epoch 7/10\n",
      "800/800 [==============================] - 0s 4us/step - loss: 0.6821 - acc: 0.9800\n",
      "Epoch 8/10\n",
      "800/800 [==============================] - 0s 6us/step - loss: 0.6804 - acc: 0.9800\n",
      "Epoch 9/10\n",
      "800/800 [==============================] - 0s 7us/step - loss: 0.6785 - acc: 0.9800\n",
      "Epoch 10/10\n",
      "800/800 [==============================] - 0s 4us/step - loss: 0.6767 - acc: 0.9800\n",
      "200/200 [==============================] - 1s 3ms/step\n",
      "800/800 [==============================] - 0s 3us/step\n",
      "Epoch 1/10\n",
      "800/800 [==============================] - 1s 2ms/step - loss: 0.6902 - acc: 0.9825\n",
      "Epoch 2/10\n",
      "800/800 [==============================] - 0s 5us/step - loss: 0.6891 - acc: 0.9825\n",
      "Epoch 3/10\n",
      "800/800 [==============================] - 0s 5us/step - loss: 0.6878 - acc: 0.9825\n",
      "Epoch 4/10\n",
      "800/800 [==============================] - 0s 5us/step - loss: 0.6865 - acc: 0.9825\n",
      "Epoch 5/10\n",
      "800/800 [==============================] - 0s 4us/step - loss: 0.6852 - acc: 0.9825\n",
      "Epoch 6/10\n",
      "800/800 [==============================] - 0s 8us/step - loss: 0.6837 - acc: 0.9825\n",
      "Epoch 7/10\n",
      "800/800 [==============================] - 0s 7us/step - loss: 0.6822 - acc: 0.9825\n",
      "Epoch 8/10\n",
      "800/800 [==============================] - 0s 4us/step - loss: 0.6805 - acc: 0.9825\n",
      "Epoch 9/10\n",
      "800/800 [==============================] - 0s 6us/step - loss: 0.6788 - acc: 0.9825\n",
      "Epoch 10/10\n",
      "800/800 [==============================] - 0s 6us/step - loss: 0.6770 - acc: 0.9825\n",
      "200/200 [==============================] - 1s 3ms/step\n",
      "800/800 [==============================] - 0s 3us/step\n",
      "Epoch 1/10\n",
      "800/800 [==============================] - 1s 2ms/step - loss: 0.6943 - acc: 0.0213\n",
      "Epoch 2/10\n",
      "800/800 [==============================] - 0s 4us/step - loss: 0.6933 - acc: 0.1412\n",
      "Epoch 3/10\n",
      "800/800 [==============================] - 0s 4us/step - loss: 0.6921 - acc: 0.9787\n",
      "Epoch 4/10\n",
      "800/800 [==============================] - 0s 8us/step - loss: 0.6909 - acc: 0.9787\n",
      "Epoch 5/10\n",
      "800/800 [==============================] - 0s 5us/step - loss: 0.6897 - acc: 0.9787\n",
      "Epoch 6/10\n",
      "800/800 [==============================] - 0s 4us/step - loss: 0.6887 - acc: 0.9787\n",
      "Epoch 7/10\n",
      "800/800 [==============================] - 0s 4us/step - loss: 0.6877 - acc: 0.9787\n",
      "Epoch 8/10\n",
      "800/800 [==============================] - 0s 4us/step - loss: 0.6867 - acc: 0.9787\n",
      "Epoch 9/10\n",
      "800/800 [==============================] - 0s 6us/step - loss: 0.6858 - acc: 0.9787\n",
      "Epoch 10/10\n",
      "800/800 [==============================] - 0s 5us/step - loss: 0.6847 - acc: 0.9787\n",
      "200/200 [==============================] - 1s 3ms/step\n",
      "800/800 [==============================] - 0s 3us/step\n",
      "Epoch 1/10\n",
      "800/800 [==============================] - 1s 2ms/step - loss: 0.6951 - acc: 0.0175\n",
      "Epoch 2/10\n",
      "800/800 [==============================] - 0s 4us/step - loss: 0.6938 - acc: 0.0275\n",
      "Epoch 3/10\n",
      "800/800 [==============================] - 0s 5us/step - loss: 0.6924 - acc: 0.9825\n",
      "Epoch 4/10\n",
      "800/800 [==============================] - 0s 4us/step - loss: 0.6911 - acc: 0.9825\n",
      "Epoch 5/10\n",
      "800/800 [==============================] - 0s 5us/step - loss: 0.6900 - acc: 0.9825\n",
      "Epoch 6/10\n",
      "800/800 [==============================] - 0s 5us/step - loss: 0.6891 - acc: 0.9825\n",
      "Epoch 7/10\n",
      "800/800 [==============================] - 0s 6us/step - loss: 0.6881 - acc: 0.9825\n",
      "Epoch 8/10\n",
      "800/800 [==============================] - 0s 5us/step - loss: 0.6871 - acc: 0.9825\n",
      "Epoch 9/10\n",
      "800/800 [==============================] - 0s 5us/step - loss: 0.6860 - acc: 0.9825\n",
      "Epoch 10/10\n",
      "800/800 [==============================] - 0s 6us/step - loss: 0.6847 - acc: 0.9825\n",
      "200/200 [==============================] - 1s 3ms/step\n",
      "800/800 [==============================] - 0s 2us/step\n",
      "Epoch 1/10\n",
      "1000/1000 [==============================] - 1s 1ms/step - loss: 0.6931 - acc: 0.7010\n",
      "Epoch 2/10\n",
      "1000/1000 [==============================] - 0s 3us/step - loss: 0.6921 - acc: 0.9810\n",
      "Epoch 3/10\n",
      "1000/1000 [==============================] - 0s 3us/step - loss: 0.6912 - acc: 0.9810\n",
      "Epoch 4/10\n",
      "1000/1000 [==============================] - 0s 3us/step - loss: 0.6902 - acc: 0.9810\n",
      "Epoch 5/10\n",
      "1000/1000 [==============================] - 0s 4us/step - loss: 0.6893 - acc: 0.9810\n",
      "Epoch 6/10\n",
      "1000/1000 [==============================] - 0s 3us/step - loss: 0.6883 - acc: 0.9810\n",
      "Epoch 7/10\n",
      "1000/1000 [==============================] - 0s 6us/step - loss: 0.6872 - acc: 0.9810\n",
      "Epoch 8/10\n",
      "1000/1000 [==============================] - 0s 4us/step - loss: 0.6860 - acc: 0.9810\n",
      "Epoch 9/10\n",
      "1000/1000 [==============================] - 0s 5us/step - loss: 0.6848 - acc: 0.9810\n",
      "Epoch 10/10\n",
      "1000/1000 [==============================] - 0s 3us/step - loss: 0.6834 - acc: 0.9810\n"
     ]
    }
   ],
   "source": [
    "epochs = [1,10]\n",
    "batch_size = [1000,5000]\n",
    "param_grid = dict(epochs=epochs, batch_size=batch_size)\n",
    "grid = GridSearchCV(estimator=model, param_grid=param_grid, n_jobs=1, cv=5)\n",
    "grid_result = grid.fit(X[0:1000,0:],y[0:1000])"
   ]
  },
  {
   "cell_type": "code",
   "execution_count": 19,
   "metadata": {},
   "outputs": [
    {
     "name": "stdout",
     "output_type": "stream",
     "text": [
      "Best: 0.981000 using {'batch_size': 1000, 'epochs': 10}\n",
      "0.476000 (0.434251) with: {'batch_size': 1000, 'epochs': 1}\n",
      "0.981000 (0.005831) with: {'batch_size': 1000, 'epochs': 10}\n",
      "0.686000 (0.369085) with: {'batch_size': 5000, 'epochs': 1}\n",
      "0.981000 (0.005831) with: {'batch_size': 5000, 'epochs': 10}\n"
     ]
    }
   ],
   "source": [
    "#http://scikit-learn.org/stable/modules/generated/sklearn.model_selection.GridSearchCV.html\n",
    "print(\"Best: %f using %s\"% (grid_result.best_score_,grid_result.best_params_))\n",
    "means = grid_result.cv_results_[\"mean_test_score\"]\n",
    "stds = grid_result.cv_results_[\"std_test_score\"]\n",
    "params = grid_result.cv_results_[\"params\"]\n",
    "for mean, stdev, param in zip(means,stds,params):\n",
    "    print(\"%f (%f) with: %r\"% (mean,stdev,param))"
   ]
  },
  {
   "cell_type": "code",
   "execution_count": 26,
   "metadata": {},
   "outputs": [],
   "source": [
    "pred=grid_result.best_estimator_.predict(X)"
   ]
  },
  {
   "cell_type": "code",
   "execution_count": 28,
   "metadata": {},
   "outputs": [
    {
     "data": {
      "image/png": "[encoded data removed]",
      "text/plain": [
       "<matplotlib.figure.Figure at 0x7f28b8089160>"
      ]
     },
     "metadata": {},
     "output_type": "display_data"
    }
   ],
   "source": [
    "from matplotlib import pyplot as plt\n",
    "\n",
    "plt.figure()\n",
    "plt.imshow(np.reshape(pred,(1000,1000)), cmap=\"gray\")\n",
    "plt.show()"
   ]
  },
  {
   "cell_type": "code",
   "execution_count": 29,
   "metadata": {},
   "outputs": [
    {
     "data": {
      "text/plain": [
       "0"
      ]
     },
     "execution_count": 29,
     "metadata": {},
     "output_type": "execute_result"
    }
   ],
   "source": [
    "pred.sum()"
   ]
  },
  {
   "cell_type": "code",
   "execution_count": 31,
   "metadata": {},
   "outputs": [],
   "source": [
    "#https://www.fabienplisson.com/random-forest-and-grid-search/"
   ]
  },
  {
   "cell_type": "code",
   "execution_count": 32,
   "metadata": {},
   "outputs": [],
   "source": [
    "#https://stackoverflow.com/questions/37678471/i-am-trying-to-implement-gridsearchcv-to-tune-the-parameters-of-k-nearest-neighb?rq=1\n",
    "k = np.arange(20)+1\n",
    "parameters = {'n_neighbors': k}\n"
   ]
  },
  {
   "cell_type": "code",
   "execution_count": 33,
   "metadata": {},
   "outputs": [
    {
     "data": {
      "text/plain": [
       "array([ 1,  2,  3,  4,  5,  6,  7,  8,  9, 10, 11, 12, 13, 14, 15, 16, 17,\n",
       "       18, 19, 20])"
      ]
     },
     "execution_count": 33,
     "metadata": {},
     "output_type": "execute_result"
    }
   ],
   "source": [
    "k"
   ]
  },
  {
   "cell_type": "code",
   "execution_count": null,
   "metadata": {},
   "outputs": [],
   "source": []
  }
 ],
 "metadata": {
  "kernelspec": {
   "display_name": "Python 3",
   "language": "python",
   "name": "python3"
  },
  "language_info": {
   "codemirror_mode": {
    "name": "ipython",
    "version": 3
   },
   "file_extension": ".py",
   "mimetype": "text/x-python",
   "name": "python",
   "nbconvert_exporter": "python",
   "pygments_lexer": "ipython3",
   "version": "3.6.4"
  }
 },
 "nbformat": 4,
 "nbformat_minor": 2
}
