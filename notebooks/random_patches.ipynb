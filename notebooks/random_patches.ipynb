{
 "cells": [
  {
   "cell_type": "markdown",
   "metadata": {},
   "source": [
    "## Experimento de selección 5 patches aleatorios para la imagen 2+_8"
   ]
  },
  {
   "cell_type": "code",
   "execution_count": 1,
   "metadata": {
    "collapsed": true
   },
   "outputs": [],
   "source": [
    "import os\n",
    "import numpy as np\n",
    "from sklearn.metrics import accuracy_score, f1_score, precision_score, recall_score, classification_report\n",
    "from matplotlib import pyplot as plt"
   ]
  },
  {
   "cell_type": "code",
   "execution_count": 2,
   "metadata": {
    "collapsed": true
   },
   "outputs": [],
   "source": [
    "path = \"/home/rpezoa/experiment_data/output/2+_8_rpr_random_patches/\"\n",
    "f = os.listdir(path)\n",
    "#print(f)\n",
    "big_target_path=\"/home/rpezoa/experiment_data/big_2+/labels/2+_8.npy\""
   ]
  },
  {
   "cell_type": "code",
   "execution_count": 3,
   "metadata": {
    "collapsed": true
   },
   "outputs": [],
   "source": [
    "n=10\n",
    "f1 = np.zeros((n))\n",
    "prec = np.zeros((n))\n",
    "rec = np.zeros((n))\n",
    "for i in range(n):\n",
    "    X0 = np.load(path +'feat_vectors/' + str(i) + '.npy' )\n",
    "    #X1 = np.load(path +'feat_vectors/0_patches_1.npy' )\n",
    "\n",
    "    y0 = np.load(path +'target_vectors/' + str(i) + '.npy' )\n",
    "    #y1 = np.load(path +'target_vectors/0_target_1.npy' )\n",
    "    #print(X0.shape, y0.shape, y0.sum())\n",
    "    big_y0=np.load(big_target_path)\n",
    "    big_pred = np.load(path + 'big_pred/' + str(i) + '_big_pred.npy')\n",
    "    f1[i] = f1_score(big_y0,big_pred)\n",
    "    prec[i] = precision_score(big_y0,big_pred)\n",
    "    rec[i] = recall_score(big_y0,big_pred)\n",
    "    #print(classification_report(big_y0,big_pred))\n",
    "                "
   ]
  },
  {
   "cell_type": "code",
   "execution_count": 4,
   "metadata": {},
   "outputs": [
    {
     "data": {
      "text/plain": [
       "(0.18002480873183188, 0.1069405055745595, 0.60666529942575886)"
      ]
     },
     "execution_count": 4,
     "metadata": {},
     "output_type": "execute_result"
    }
   ],
   "source": [
    "f1.mean(),prec.mean(),rec.mean()"
   ]
  },
  {
   "cell_type": "code",
   "execution_count": 5,
   "metadata": {},
   "outputs": [
    {
     "data": {
      "image/png": "[encoded data removed]",
      "text/plain": [
       "<matplotlib.figure.Figure at 0x7f0d478dae80>"
      ]
     },
     "metadata": {},
     "output_type": "display_data"
    }
   ],
   "source": [
    "plt.figure()\n",
    "plt.plot(range(1,n+1),f1,'o-')\n",
    "plt.plot(range(1,n+1),prec,'o-m')\n",
    "plt.plot(range(1,n+1),rec,'o-y')\n",
    "plt.show()"
   ]
  },
  {
   "cell_type": "code",
   "execution_count": 6,
   "metadata": {},
   "outputs": [
    {
     "data": {
      "image/png": "[encoded data removed]",
      "text/plain": [
       "<matplotlib.figure.Figure at 0x7f0d478da8d0>"
      ]
     },
     "metadata": {},
     "output_type": "display_data"
    }
   ],
   "source": [
    "plt.figure()\n",
    "plt.boxplot(f1)\n",
    "plt.boxplot(prec)\n",
    "plt.grid()\n",
    "plt.show()"
   ]
  },
  {
   "cell_type": "code",
   "execution_count": 40,
   "metadata": {},
   "outputs": [
    {
     "name": "stdout",
     "output_type": "stream",
     "text": [
      "[[953903  26593]\n",
      " [ 10596   8908]]\n",
      "[[919965  60531]\n",
      " [  6760  12744]]\n",
      "[[923687  56809]\n",
      " [  6454  13050]]\n",
      "[[885529  94967]\n",
      " [  7683  11821]]\n",
      "[[911142  69354]\n",
      " [  4412  15092]]\n",
      "[[901448  79048]\n",
      " [ 10722   8782]]\n",
      "[[938906  41590]\n",
      " [ 10499   9005]]\n",
      "[[962681  17815]\n",
      " [  9205  10299]]\n",
      "[[926146  54350]\n",
      " [  9531   9973]]\n",
      "[[937425  43071]\n",
      " [  7229  12275]]\n"
     ]
    }
   ],
   "source": [
    "for i in range(10):\n",
    "    cm = np.load(path + \"cm/\" + str(i)+\"_cm.npy\")\n",
    "    print(cm)"
   ]
  },
  {
   "cell_type": "code",
   "execution_count": 82,
   "metadata": {},
   "outputs": [
    {
     "name": "stdout",
     "output_type": "stream",
     "text": [
      "             precision    recall  f1-score   support\n",
      "\n",
      "    class 0       0.50      0.50      0.50         2\n",
      "    class 1       0.67      0.67      0.67         3\n",
      "\n",
      "avg / total       0.60      0.60      0.60         5\n",
      "\n"
     ]
    }
   ],
   "source": [
    "from sklearn.metrics import classification_report\n",
    "y_true = [0, 1, 1, 0, 1]\n",
    "y_pred = [0, 1, 0, 1, 1]\n",
    "target_names = ['class 0', 'class 1', 'class 2']\n",
    "print(classification_report(y_true, y_pred, target_names=target_names))"
   ]
  },
  {
   "cell_type": "code",
   "execution_count": 28,
   "metadata": {},
   "outputs": [
    {
     "data": {
      "text/plain": [
       "(13622,)"
      ]
     },
     "execution_count": 28,
     "metadata": {},
     "output_type": "execute_result"
    }
   ],
   "source": [
    "y1.shape"
   ]
  },
  {
   "cell_type": "code",
   "execution_count": 29,
   "metadata": {},
   "outputs": [
    {
     "data": {
      "text/plain": [
       "139"
      ]
     },
     "execution_count": 29,
     "metadata": {},
     "output_type": "execute_result"
    }
   ],
   "source": [
    "y0.sum()"
   ]
  },
  {
   "cell_type": "code",
   "execution_count": 30,
   "metadata": {},
   "outputs": [
    {
     "data": {
      "text/plain": [
       "661"
      ]
     },
     "execution_count": 30,
     "metadata": {},
     "output_type": "execute_result"
    }
   ],
   "source": [
    "y1.sum()"
   ]
  },
  {
   "cell_type": "code",
   "execution_count": null,
   "metadata": {
    "collapsed": true
   },
   "outputs": [],
   "source": []
  }
 ],
 "metadata": {
  "kernelspec": {
   "display_name": "Python 3",
   "language": "python",
   "name": "python3"
  },
  "language_info": {
   "codemirror_mode": {
    "name": "ipython",
    "version": 3
   },
   "file_extension": ".py",
   "mimetype": "text/x-python",
   "name": "python",
   "nbconvert_exporter": "python",
   "pygments_lexer": "ipython3",
   "version": "3.6.1"
  }
 },
 "nbformat": 4,
 "nbformat_minor": 2
}
