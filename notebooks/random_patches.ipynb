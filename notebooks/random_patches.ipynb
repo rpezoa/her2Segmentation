{
 "cells": [
  {
   "cell_type": "markdown",
   "metadata": {},
   "source": [
    "## Experimento de selección 5 patches aleatorios full data"
   ]
  },
  {
   "cell_type": "code",
   "execution_count": 1,
   "metadata": {
    "collapsed": true
   },
   "outputs": [],
   "source": [
    "import os\n",
    "import numpy as np\n",
    "from sklearn.metrics import accuracy_score, f1_score, precision_score, recall_score, classification_report\n",
    "from matplotlib import pyplot as plt"
   ]
  },
  {
   "cell_type": "markdown",
   "metadata": {},
   "source": [
    "## SVM"
   ]
  },
  {
   "cell_type": "code",
   "execution_count": 7,
   "metadata": {},
   "outputs": [
    {
     "name": "stdout",
     "output_type": "stream",
     "text": [
      "0.181186212019 0.224683623261 0.174846097783\n",
      "[[ 0.15860526  0.24126881  0.37725369  0.30146054  0.08784906  0.30142253\n",
      "   0.27567495  0.32591189  0.20540887  0.26693819]\n",
      " [ 0.06986138  0.07337859  0.07163814  0.18562679  0.09733607  0.17829036\n",
      "   0.09757882  0.20234802  0.09478765  0.01108464]]\n"
     ]
    },
    {
     "data": {
      "image/png": "[encoded data removed]",
      "text/plain": [
       "<matplotlib.figure.Figure at 0x7f69e0b63668>"
      ]
     },
     "metadata": {},
     "output_type": "display_data"
    }
   ],
   "source": [
    "images = [\"1+_20\", \"1+_25\"]#, \"2+_1\",\"2+_8\",\"2+_9\",\"3+_19\"]\n",
    "type_im = [\"1+\",\"1+\"]#,\"2+\",\"2+\",\"2+\",\"3+\"]\n",
    "n_seeds = 10\n",
    "n_im = len(images)\n",
    "f1 = np.zeros((n_im,n_seeds))\n",
    "prec = np.zeros((n_im,n_seeds))\n",
    "rec = np.zeros((n_im,n_seeds))\n",
    "for i in range(n_im):\n",
    "    path = \"/home/rpezoa/experiment_data/output/\" + images[i]+ \"_rpr_random_patches/\"\n",
    "    f = os.listdir(path)\n",
    "    #print(f)\n",
    "    big_target_path=\"/home/rpezoa/experiment_data/big_\" + type_im[i] + \"/labels/\" + images[i] + \".npy\"\n",
    "    \n",
    "    for j in range(n_seeds):\n",
    "        big_y0=np.load(big_target_path)\n",
    "        big_pred = np.load(path + 'svm_0/big_pred/' + str(j) + '_big_pred.npy')\n",
    "        f1[i,j] = f1_score(big_y0,big_pred)\n",
    "        prec[i,j] = precision_score(big_y0,big_pred)\n",
    "        rec[i,j] = recall_score(big_y0,big_pred)\n",
    "        #print(classification_report(big_y0,big_pred))\n",
    "print(f1.mean(),prec.mean(),rec.mean())\n",
    "print(f1)\n",
    "np.save(\"/home/rpezoa/experiment_data/output/f1_random_svm_0.npy\",f1)\n",
    "np.save(\"/home/rpezoa/experiment_data/output/prec_random_svm_0.npy\",prec)\n",
    "plt.figure()\n",
    "plt.boxplot(f1.T)\n",
    "#plt.boxplot(prec)\n",
    "plt.grid()\n",
    "plt.ylim(0,0.6)\n",
    "plt.show()"
   ]
  },
  {
   "cell_type": "code",
   "execution_count": 3,
   "metadata": {},
   "outputs": [
    {
     "name": "stderr",
     "output_type": "stream",
     "text": [
      "/home/rpezoa/anaconda3/lib/python3.6/site-packages/sklearn/metrics/classification.py:1113: UndefinedMetricWarning: F-score is ill-defined and being set to 0.0 due to no predicted samples.\n",
      "  'precision', 'predicted', average, warn_for)\n",
      "/home/rpezoa/anaconda3/lib/python3.6/site-packages/sklearn/metrics/classification.py:1113: UndefinedMetricWarning: Precision is ill-defined and being set to 0.0 due to no predicted samples.\n",
      "  'precision', 'predicted', average, warn_for)\n"
     ]
    },
    {
     "name": "stdout",
     "output_type": "stream",
     "text": [
      "[[ 0.4320716   0.36913302  0.42574895  0.44030016  0.41793003  0.34327689\n",
      "   0.30025743  0.41583375  0.30138076  0.        ]\n",
      " [ 0.          0.16412594  0.07878941  0.20756689  0.22780783  0.29454278\n",
      "   0.21905583  0.23446528  0.08231511  0.01038345]\n",
      " [ 0.05292012  0.40047256  0.21345775  0.2962995   0.18008755  0.26529531\n",
      "   0.21426009  0.          0.39275802  0.27205033]\n",
      " [ 0.3729987   0.37903456  0.42057134  0.          0.44466441  0.41413893\n",
      "   0.35720488  0.20355067  0.38627334  0.32951683]\n",
      " [ 0.46436737  0.44070356  0.55821298  0.58154187  0.24698627  0.3967709\n",
      "   0.47656796  0.02971256  0.57156254  0.48187791]\n",
      " [ 0.33100192  0.33585003  0.27250926  0.25721213  0.20859995  0.25789636\n",
      "   0.41970961  0.38522108  0.07486205  0.        ]]\n"
     ]
    },
    {
     "data": {
      "image/png": "[encoded data removed]",
      "text/plain": [
       "<matplotlib.figure.Figure at 0x7f69e349ec50>"
      ]
     },
     "metadata": {},
     "output_type": "display_data"
    }
   ],
   "source": [
    "images = [\"1+_20\", \"1+_25\", \"2+_1\",\"2+_8\",\"2+_9\",\"3+_19\"]\n",
    "type_im = [\"1+\",\"1+\",\"2+\",\"2+\",\"2+\",\"3+\"]\n",
    "n_seeds = 10\n",
    "n_im = len(images)\n",
    "f1 = np.zeros((n_im,n_seeds))\n",
    "prec = np.zeros((n_im,n_seeds))\n",
    "rec = np.zeros((n_im,n_seeds))\n",
    "for i in range(n_im):\n",
    "    path = \"/home/rpezoa/experiment_data/output/\" + images[i]+ \"_rpr_random_patches/\"\n",
    "    f = os.listdir(path)\n",
    "    #print(f)\n",
    "    big_target_path=\"/home/rpezoa/experiment_data/big_\" + type_im[i] + \"/labels/\" + images[i] + \".npy\"\n",
    "    \n",
    "    for j in range(n_seeds):\n",
    "        big_y0=np.load(big_target_path)\n",
    "        big_pred = np.load(path + 'deep_0/big_pred/' + str(j) + '_big_pred.npy')\n",
    "        f1[i,j] = f1_score(big_y0,big_pred)\n",
    "        prec[i,j] = precision_score(big_y0,big_pred)\n",
    "        rec[i,j] = recall_score(big_y0,big_pred)\n",
    "        #print(classification_report(big_y0,big_pred))\n",
    "f1.mean(),prec.mean(),rec.mean()\n",
    "print(f1)\n",
    "np.save(\"/home/rpezoa/experiment_data/output/f1_random_deep_0.npy\",f1)\n",
    "np.save(\"/home/rpezoa/experiment_data/output/prec_random_deep_0.npy\",prec)\n",
    "plt.figure()\n",
    "plt.boxplot(f1.T)\n",
    "#plt.boxplot(prec)\n",
    "plt.grid()\n",
    "plt.ylim(0,0.6)\n",
    "plt.show()"
   ]
  },
  {
   "cell_type": "code",
   "execution_count": 4,
   "metadata": {},
   "outputs": [
    {
     "name": "stdout",
     "output_type": "stream",
     "text": [
      "0.289195105088 0.411135606342 0.261201756629\n"
     ]
    }
   ],
   "source": [
    "print(f1.mean(),prec.mean(),rec.mean())"
   ]
  },
  {
   "cell_type": "code",
   "execution_count": 24,
   "metadata": {},
   "outputs": [
    {
     "name": "stdout",
     "output_type": "stream",
     "text": [
      "[[ 0.19301609  0.26952206  0.37226854  0.24583605  0.33000365  0.29869007\n",
      "   0.19104289  0.20914861  0.13665212  0.27659117]\n",
      " [ 0.11518647  0.15965662  0.16811891  0.1988866   0.16103722  0.12854884\n",
      "   0.19856228  0.14986384  0.07086614  0.05905715]\n",
      " [ 0.19776019  0.16841599  0.19165662  0.15920506  0.30223214  0.18328258\n",
      "   0.239331    0.15770182  0.20825766  0.12549855]\n",
      " [ 0.25150308  0.11862313  0.21474573  0.02497936  0.26652313  0.35112503\n",
      "   0.22447766  0.26445957  0.21085083  0.25915   ]\n",
      " [ 0.53528548  0.45214832  0.44405463  0.48856556  0.33634797  0.5555678\n",
      "   0.41567351  0.35616082  0.52434665  0.43631315]\n",
      " [ 0.27140801  0.29737543  0.38030048  0.33264384  0.30097966  0.32918709\n",
      "   0.39529521  0.37602881  0.41474137  0.26277236]]\n"
     ]
    },
    {
     "data": {
      "image/png": "[encoded data removed]",
      "text/plain": [
       "<matplotlib.figure.Figure at 0x7f484bdc5908>"
      ]
     },
     "metadata": {},
     "output_type": "display_data"
    }
   ],
   "source": [
    "images = [\"1+_20\", \"1+_25\", \"2+_1\",\"2+_8\",\"2+_9\",\"3+_19\"]\n",
    "type_im = [\"1+\",\"1+\",\"2+\",\"2+\",\"2+\",\"3+\"]\n",
    "n_seeds = 10\n",
    "n_im = len(images)\n",
    "f1 = np.zeros((n_im,n_seeds))\n",
    "prec = np.zeros((n_im,n_seeds))\n",
    "rec = np.zeros((n_im,n_seeds))\n",
    "for i in range(n_im):\n",
    "    path = \"/home/rpezoa/experiment_data/output/\" + images[i]+ \"_rpr_random_patches/\"\n",
    "    f = os.listdir(path)\n",
    "    #print(f)\n",
    "    big_target_path=\"/home/rpezoa/experiment_data/big_\" + type_im[i] + \"/labels/\" + images[i] + \".npy\"\n",
    "    \n",
    "    for j in range(n_seeds):\n",
    "        big_y0=np.load(big_target_path)\n",
    "        big_pred = np.load(path + 'rf/big_pred/' + str(j) + '_big_pred.npy')\n",
    "        f1[i,j] = f1_score(big_y0,big_pred)\n",
    "        prec[i,j] = precision_score(big_y0,big_pred)\n",
    "        rec[i,j] = recall_score(big_y0,big_pred)\n",
    "        #print(classification_report(big_y0,big_pred))\n",
    "f1.mean(),prec.mean(),rec.mean()\n",
    "print(f1)\n",
    "np.save(\"/home/rpezoa/experiment_data/output/f1_random_rf.npy\",f1)\n",
    "np.save(\"/home/rpezoa/experiment_data/output/prec_random_rf.npy\",prec)\n",
    "plt.figure()\n",
    "plt.boxplot(f1.T)\n",
    "#plt.boxplot(prec)\n",
    "plt.grid()\n",
    "plt.ylim(0,0.6)\n",
    "plt.show()"
   ]
  },
  {
   "cell_type": "code",
   "execution_count": 25,
   "metadata": {},
   "outputs": [
    {
     "name": "stdout",
     "output_type": "stream",
     "text": [
      "[[ 0.17255998  0.18211424  0.30395327  0.17193284  0.11383812  0.26801391\n",
      "   0.21775953  0.25208724  0.16126061  0.18420254]\n",
      " [ 0.10057027  0.20093391  0.1351802   0.15500437  0.16396505  0.09556248\n",
      "   0.15291176  0.17943598  0.07524213  0.06423786]\n",
      " [ 0.15023229  0.1530406   0.18416664  0.13656444  0.29326146  0.17171066\n",
      "   0.21096513  0.14038578  0.22531199  0.10385575]\n",
      " [ 0.23072273  0.14567454  0.15210489  0.07056097  0.19048129  0.32031503\n",
      "   0.18576628  0.2184035   0.17257693  0.24032989]\n",
      " [ 0.48985533  0.46319808  0.42513835  0.43683195  0.32755893  0.49728037\n",
      "   0.33947136  0.34412925  0.49150396  0.45334245]\n",
      " [ 0.24387797  0.25506856  0.3696144   0.304634    0.28181578  0.36869186\n",
      "   0.32402603  0.32066501  0.38386582  0.25518978]]\n"
     ]
    },
    {
     "data": {
      "image/png": "[encoded data removed]",
      "text/plain": [
       "<matplotlib.figure.Figure at 0x7f484bb60588>"
      ]
     },
     "metadata": {},
     "output_type": "display_data"
    }
   ],
   "source": [
    "images = [\"1+_20\", \"1+_25\", \"2+_1\",\"2+_8\",\"2+_9\",\"3+_19\"]\n",
    "type_im = [\"1+\",\"1+\",\"2+\",\"2+\",\"2+\",\"3+\"]\n",
    "n_seeds = 10\n",
    "n_im = len(images)\n",
    "f1 = np.zeros((n_im,n_seeds))\n",
    "prec = np.zeros((n_im,n_seeds))\n",
    "rec = np.zeros((n_im,n_seeds))\n",
    "for i in range(n_im):\n",
    "    path = \"/home/rpezoa/experiment_data/output/\" + images[i]+ \"_rpr_random_patches/\"\n",
    "    f = os.listdir(path)\n",
    "    #print(f)\n",
    "    big_target_path=\"/home/rpezoa/experiment_data/big_\" + type_im[i] + \"/labels/\" + images[i] + \".npy\"\n",
    "    \n",
    "    for j in range(n_seeds):\n",
    "        big_y0=np.load(big_target_path)\n",
    "        big_pred = np.load(path + 'knn/big_pred/' + str(j) + '_big_pred.npy')\n",
    "        f1[i,j] = f1_score(big_y0,big_pred)\n",
    "        prec[i,j] = precision_score(big_y0,big_pred)\n",
    "        rec[i,j] = recall_score(big_y0,big_pred)\n",
    "        #print(classification_report(big_y0,big_pred))\n",
    "f1.mean(),prec.mean(),rec.mean()\n",
    "print(f1)\n",
    "np.save(\"/home/rpezoa/experiment_data/output/f1_random_knn.npy\",f1)\n",
    "np.save(\"/home/rpezoa/experiment_data/output/prec_random_knn.npy\",prec)\n",
    "plt.figure()\n",
    "plt.boxplot(f1.T)\n",
    "#plt.boxplot(prec)\n",
    "plt.grid()\n",
    "plt.ylim(0,0.6)\n",
    "plt.show()"
   ]
  },
  {
   "cell_type": "markdown",
   "metadata": {},
   "source": [
    "## Extra Trees"
   ]
  },
  {
   "cell_type": "code",
   "execution_count": 26,
   "metadata": {},
   "outputs": [
    {
     "name": "stdout",
     "output_type": "stream",
     "text": [
      "[[ 0.22518391  0.22849989  0.3932791   0.243957    0.19683933  0.30847953\n",
      "   0.26023311  0.2119145   0.19581081  0.22585244]\n",
      " [ 0.14169485  0.14398375  0.18658676  0.18705766  0.23713175  0.15345047\n",
      "   0.20213302  0.20108938  0.07555199  0.03547401]\n",
      " [ 0.19683769  0.18733685  0.21641727  0.15923229  0.27219742  0.20982273\n",
      "   0.28506116  0.16742004  0.22455056  0.13762282]\n",
      " [ 0.22891541  0.16746652  0.21881773  0.03807632  0.27097328  0.34061968\n",
      "   0.24037999  0.30601566  0.18414378  0.26122791]\n",
      " [ 0.52603368  0.47219849  0.4302765   0.46101082  0.34424153  0.57014628\n",
      "   0.44731838  0.33477459  0.53122405  0.459656  ]\n",
      " [ 0.26707969  0.27203864  0.39103371  0.32635939  0.29713617  0.3491802\n",
      "   0.3886269   0.38866437  0.41181484  0.28289649]]\n"
     ]
    },
    {
     "data": {
      "image/png": "[encoded data removed]",
      "text/plain": [
       "<matplotlib.figure.Figure at 0x7f484ba0bbe0>"
      ]
     },
     "metadata": {},
     "output_type": "display_data"
    }
   ],
   "source": [
    "images = [\"1+_20\", \"1+_25\", \"2+_1\",\"2+_8\",\"2+_9\",\"3+_19\"]\n",
    "type_im = [\"1+\",\"1+\",\"2+\",\"2+\",\"2+\",\"3+\"]\n",
    "n_seeds = 10\n",
    "n_im = len(images)\n",
    "f1 = np.zeros((n_im,n_seeds))\n",
    "prec = np.zeros((n_im,n_seeds))\n",
    "rec = np.zeros((n_im,n_seeds))\n",
    "for i in range(n_im):\n",
    "    path = \"/home/rpezoa/experiment_data/output/\" + images[i]+ \"_rpr_random_patches/\"\n",
    "    f = os.listdir(path)\n",
    "    #print(f)\n",
    "    big_target_path=\"/home/rpezoa/experiment_data/big_\" + type_im[i] + \"/labels/\" + images[i] + \".npy\"\n",
    "    \n",
    "    for j in range(n_seeds):\n",
    "        big_y0=np.load(big_target_path)\n",
    "        big_pred = np.load(path + 'extra_trees/big_pred/' + str(j) + '_big_pred.npy')\n",
    "        f1[i,j] = f1_score(big_y0,big_pred)\n",
    "        prec[i,j] = precision_score(big_y0,big_pred)\n",
    "        rec[i,j] = recall_score(big_y0,big_pred)\n",
    "        #print(classification_report(big_y0,big_pred))\n",
    "f1.mean(),prec.mean(),rec.mean()\n",
    "print(f1)\n",
    "np.save(\"/home/rpezoa/experiment_data/output/f1_random_et.npy\",f1)\n",
    "np.save(\"/home/rpezoa/experiment_data/output/prec_random_et.npy\",prec)\n",
    "plt.figure()\n",
    "plt.boxplot(f1.T)\n",
    "#plt.boxplot(prec)\n",
    "plt.grid()\n",
    "plt.ylim(0,0.6)\n",
    "plt.show()"
   ]
  },
  {
   "cell_type": "code",
   "execution_count": null,
   "metadata": {
    "collapsed": true
   },
   "outputs": [],
   "source": []
  }
 ],
 "metadata": {
  "kernelspec": {
   "display_name": "Python 3",
   "language": "python",
   "name": "python3"
  },
  "language_info": {
   "codemirror_mode": {
    "name": "ipython",
    "version": 3
   },
   "file_extension": ".py",
   "mimetype": "text/x-python",
   "name": "python",
   "nbconvert_exporter": "python",
   "pygments_lexer": "ipython3",
   "version": "3.6.1"
  }
 },
 "nbformat": 4,
 "nbformat_minor": 2
}
