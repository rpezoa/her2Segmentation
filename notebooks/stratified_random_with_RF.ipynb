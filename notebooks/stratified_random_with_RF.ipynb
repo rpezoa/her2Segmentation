{
 "cells": [
  {
   "cell_type": "code",
   "execution_count": 2,
   "metadata": {
    "collapsed": true
   },
   "outputs": [],
   "source": [
    "import os\n",
    "import numpy as np\n",
    "from sklearn.metrics import accuracy_score, f1_score, precision_score, recall_score, classification_report\n",
    "from matplotlib import pyplot as plt"
   ]
  },
  {
   "cell_type": "code",
   "execution_count": 6,
   "metadata": {
    "collapsed": true
   },
   "outputs": [],
   "source": [
    "base_dir = \"/home/rpezoa/experiment_data/\"\n",
    "output_dir = base_dir + \"output/\"\n",
    "images = [\"1+_20\", \"1+_25\", \"2+_1\", \"2+_8\", \"2+_9\", \"3+_19\"]\n",
    "type_im = [\"1+\",\"1+\",\"2+\",\"2+\",\"2+\", \"3+\"]\n",
    "seeds = [0,1,2,3,4,5,6,7,8,9]\n",
    "n_images = len(images)\n",
    "images_dir = [None] * n_images\n",
    "classifiers=[\"rf_0_cross\"]\n",
    "percentages = [\"10\", \"0.20\", \"0.30\", \"0.40\", \"0.50\"]"
   ]
  },
  {
   "cell_type": "markdown",
   "metadata": {},
   "source": [
    "## Without undersampling"
   ]
  },
  {
   "cell_type": "code",
   "execution_count": 9,
   "metadata": {},
   "outputs": [
    {
     "name": "stdout",
     "output_type": "stream",
     "text": [
      "classifier: rf_0_cross\n",
      "perc: 10\n",
      "perc: 0.20\n",
      "perc: 0.30\n",
      "perc: 0.40\n",
      "perc: 0.50\n"
     ]
    }
   ],
   "source": [
    "n_seeds = 10\n",
    "n_im = len(images)\n",
    "n_class = len(classifiers)\n",
    "n_perc = len(percentages)\n",
    "f1 = np.zeros((n_im,n_seeds,n_perc))\n",
    "prec = np.zeros((n_im,n_seeds,n_perc))\n",
    "rec = np.zeros((n_im,n_seeds,n_perc))\n",
    "\n",
    "\n",
    "for c,clf in enumerate(classifiers):\n",
    "    print(\"classifier:\", clf)     \n",
    "    for p,perc in enumerate(percentages):\n",
    "        print(\"perc:\", perc)\n",
    "        for i in range(n_im):\n",
    "            path = \"/home/rpezoa/experiment_data/output/\" + images[i]+ \"_rpr_stratified_random_\"+perc+\"/\"\n",
    "            #f = os.listdir(path)\n",
    "            #print(f)\n",
    "            big_target_path=\"/home/rpezoa/experiment_data/big_\" + type_im[i] + \"/labels/\" + images[i] + \".npy\"\n",
    "            big_y0=np.load(big_target_path)\n",
    "            for j in range(n_seeds):\n",
    "\n",
    "                big_pred = np.load(path + clf + '/big_pred/' + str(j) + '_big_pred.npy')\n",
    "                f1[i,j,p] = f1_score(big_y0,big_pred)\n",
    "                prec[i,j,p] = precision_score(big_y0,big_pred)\n",
    "                rec[i,j,p] = recall_score(big_y0,big_pred)\n",
    "                #print(classification_report(big_y0,big_pred))\n"
   ]
  },
  {
   "cell_type": "code",
   "execution_count": 12,
   "metadata": {},
   "outputs": [
    {
     "name": "stdout",
     "output_type": "stream",
     "text": [
      "[ 0.45644424  0.39309961  0.34127444  0.30339064  0.27017423]\n"
     ]
    },
    {
     "data": {
      "image/png": "[encoded data removed]",
      "text/plain": [
       "<matplotlib.figure.Figure at 0x7fb6c2d95d68>"
      ]
     },
     "metadata": {},
     "output_type": "display_data"
    }
   ],
   "source": [
    "means = np.zeros((len(percentages)))\n",
    "for p in range(len(percentages)):\n",
    "    means[p] = f1[:,:,p].mean()\n",
    "    \n",
    "print(means)\n",
    "plt.figure()\n",
    "plt.plot(means,'o')\n",
    "plt.grid()\n",
    "plt.show()"
   ]
  },
  {
   "cell_type": "markdown",
   "metadata": {},
   "source": [
    "## With Undersampling"
   ]
  },
  {
   "cell_type": "code",
   "execution_count": 19,
   "metadata": {},
   "outputs": [
    {
     "name": "stdout",
     "output_type": "stream",
     "text": [
      "(6, 10, 5)\n"
     ]
    }
   ],
   "source": [
    "classifiers=[\"rf_1_cross\"]\n",
    "percentages = [\"\", \"10\", \"0.20\", \"0.30\", \"0.40\", \"0.50\"]\n",
    "n_seeds = 10\n",
    "n_im = len(images)\n",
    "n_class = len(classifiers)\n",
    "n_perc = len(percentages)\n",
    "f1 = np.zeros((n_im,n_seeds,n_perc))\n",
    "prec = np.zeros((n_im,n_seeds,n_perc))\n",
    "rec = np.zeros((n_im,n_seeds,n_perc))\n",
    "print(f1.shape)\n",
    "\n"
   ]
  },
  {
   "cell_type": "code",
   "execution_count": 20,
   "metadata": {},
   "outputs": [
    {
     "name": "stdout",
     "output_type": "stream",
     "text": [
      "classifier: rf_1_cross\n",
      "perc: 10\n",
      "perc: 0.20\n",
      "perc: 0.30\n",
      "perc: 0.40\n",
      "perc: 0.50\n"
     ]
    }
   ],
   "source": [
    "for c,clf in enumerate(classifiers):\n",
    "    print(\"classifier:\", clf)     \n",
    "    for p,perc in enumerate(percentages):\n",
    "        print(\"perc:\", perc)\n",
    "        for i in range(n_im):\n",
    "            path = \"/home/rpezoa/experiment_data/output/\" + images[i]+ \"_rpr_stratified_random_\"+perc+\"/\"\n",
    "            #f = os.listdir(path)\n",
    "            #print(f)\n",
    "            big_target_path=\"/home/rpezoa/experiment_data/big_\" + type_im[i] + \"/labels/\" + images[i] + \".npy\"\n",
    "            big_y0=np.load(big_target_path)\n",
    "            for j in range(n_seeds):\n",
    "\n",
    "                big_pred = np.load(path + clf + '/big_pred/' + str(j) + '_big_pred.npy')\n",
    "                f1[i,j,p] = f1_score(big_y0,big_pred)\n",
    "                prec[i,j,p] = precision_score(big_y0,big_pred)\n",
    "                rec[i,j,p] = recall_score(big_y0,big_pred)\n",
    "                #print(classification_report(big_y0,big_pred))"
   ]
  },
  {
   "cell_type": "code",
   "execution_count": 21,
   "metadata": {},
   "outputs": [
    {
     "name": "stdout",
     "output_type": "stream",
     "text": [
      "[ 0.26711008  0.2609559   0.26235096  0.26500015  0.26713366]\n"
     ]
    },
    {
     "data": {
      "image/png": "[encoded data removed]",
      "text/plain": [
       "<matplotlib.figure.Figure at 0x7fb6c2bf47b8>"
      ]
     },
     "metadata": {},
     "output_type": "display_data"
    }
   ],
   "source": [
    "means = np.zeros((len(percentages)))\n",
    "for p in range(len(percentages)):\n",
    "    means[p] = f1[:,:,p].mean()\n",
    "    \n",
    "print(means)\n",
    "plt.figure()\n",
    "plt.plot(means,'o')\n",
    "plt.grid()\n",
    "plt.show()"
   ]
  },
  {
   "cell_type": "code",
   "execution_count": null,
   "metadata": {
    "collapsed": true
   },
   "outputs": [],
   "source": []
  }
 ],
 "metadata": {
  "kernelspec": {
   "display_name": "Python 3",
   "language": "python",
   "name": "python3"
  },
  "language_info": {
   "codemirror_mode": {
    "name": "ipython",
    "version": 3
   },
   "file_extension": ".py",
   "mimetype": "text/x-python",
   "name": "python",
   "nbconvert_exporter": "python",
   "pygments_lexer": "ipython3",
   "version": "3.6.1"
  }
 },
 "nbformat": 4,
 "nbformat_minor": 2
}
