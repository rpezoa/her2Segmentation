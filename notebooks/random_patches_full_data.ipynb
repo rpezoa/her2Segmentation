{
 "cells": [
  {
   "cell_type": "markdown",
   "metadata": {},
   "source": [
    "## Experimento de selección 5 patches aleatorios full data"
   ]
  },
  {
   "cell_type": "code",
   "execution_count": 1,
   "metadata": {
    "collapsed": true
   },
   "outputs": [],
   "source": [
    "import os\n",
    "import numpy as np\n",
    "from sklearn.metrics import accuracy_score, f1_score, precision_score, recall_score, classification_report\n",
    "from matplotlib import pyplot as plt"
   ]
  },
  {
   "cell_type": "markdown",
   "metadata": {},
   "source": [
    "## SVM"
   ]
  },
  {
   "cell_type": "code",
   "execution_count": 2,
   "metadata": {},
   "outputs": [
    {
     "name": "stdout",
     "output_type": "stream",
     "text": [
      "0.218041660603 0.261043176871 0.212472829788\n",
      "[[ 0.15860526  0.24126881  0.37725369  0.30146054  0.08784906  0.30142253\n",
      "   0.27567495  0.32591189  0.20540887  0.26693819]\n",
      " [ 0.06986138  0.07337859  0.07163814  0.18562679  0.09733607  0.17829036\n",
      "   0.09757882  0.20234802  0.09478765  0.01108464]\n",
      " [ 0.20097395  0.25899975  0.06384692  0.25956995  0.20137776  0.20873183\n",
      "   0.23682387  0.16413796  0.28790406  0.22037143]\n",
      " [ 0.18101318  0.14160486  0.16382742  0.02446853  0.09240871  0.16332401\n",
      "   0.27023269  0.12277924  0.21092226  0.19668351]\n",
      " [ 0.37121905  0.39443866  0.4258766   0.41181039  0.16717472  0.32629834\n",
      "   0.41173405  0.02237442  0.42020758  0.33052707]\n",
      " [ 0.24960062  0.26125095  0.2863385   0.26442435  0.22388264  0.28911149\n",
      "   0.24626338  0.34702576  0.14967014  0.18954479]]\n"
     ]
    },
    {
     "data": {
      "image/png": "[encoded data removed]",
      "text/plain": [
       "<matplotlib.figure.Figure at 0x7fd536dd6a58>"
      ]
     },
     "metadata": {},
     "output_type": "display_data"
    }
   ],
   "source": [
    "images = [\"1+_20\", \"1+_25\", \"2+_1\",\"2+_8\",\"2+_9\",\"3+_19\"]\n",
    "type_im = [\"1+\",\"1+\",\"2+\",\"2+\",\"2+\",\"3+\"]\n",
    "n_seeds = 10\n",
    "n_im = len(images)\n",
    "f1 = np.zeros((n_im,n_seeds))\n",
    "prec = np.zeros((n_im,n_seeds))\n",
    "rec = np.zeros((n_im,n_seeds))\n",
    "for i in range(n_im):\n",
    "    path = \"/home/rpezoa/experiment_data/output/\" + images[i]+ \"_rpr_random_patches/\"\n",
    "    f = os.listdir(path)\n",
    "    #print(f)\n",
    "    big_target_path=\"/home/rpezoa/experiment_data/big_\" + type_im[i] + \"/labels/\" + images[i] + \".npy\"\n",
    "    \n",
    "    for j in range(n_seeds):\n",
    "        big_y0=np.load(big_target_path)\n",
    "        big_pred = np.load(path + 'svm_0/big_pred/' + str(j) + '_big_pred.npy')\n",
    "        f1[i,j] = f1_score(big_y0,big_pred)\n",
    "        prec[i,j] = precision_score(big_y0,big_pred)\n",
    "        rec[i,j] = recall_score(big_y0,big_pred)\n",
    "        #print(classification_report(big_y0,big_pred))\n",
    "print(f1.mean(),prec.mean(),rec.mean())\n",
    "print(f1)\n",
    "np.save(\"/home/rpezoa/experiment_data/output/f1_random_svm_0.npy\",f1)\n",
    "np.save(\"/home/rpezoa/experiment_data/output/prec_random_svm_0.npy\",prec)\n",
    "plt.figure()\n",
    "plt.boxplot(f1.T)\n",
    "#plt.boxplot(prec)\n",
    "plt.grid()\n",
    "plt.ylim(0,0.6)\n",
    "plt.show()"
   ]
  },
  {
   "cell_type": "markdown",
   "metadata": {},
   "source": [
    "## Deep "
   ]
  },
  {
   "cell_type": "code",
   "execution_count": 3,
   "metadata": {},
   "outputs": [
    {
     "name": "stderr",
     "output_type": "stream",
     "text": [
      "/home/rpezoa/anaconda3/lib/python3.6/site-packages/sklearn/metrics/classification.py:1113: UndefinedMetricWarning: F-score is ill-defined and being set to 0.0 due to no predicted samples.\n",
      "  'precision', 'predicted', average, warn_for)\n",
      "/home/rpezoa/anaconda3/lib/python3.6/site-packages/sklearn/metrics/classification.py:1113: UndefinedMetricWarning: Precision is ill-defined and being set to 0.0 due to no predicted samples.\n",
      "  'precision', 'predicted', average, warn_for)\n"
     ]
    },
    {
     "name": "stdout",
     "output_type": "stream",
     "text": [
      "[[ 0.4320716   0.36913302  0.42574895  0.44030016  0.41793003  0.34327689\n",
      "   0.30025743  0.41583375  0.30138076  0.        ]\n",
      " [ 0.          0.16412594  0.07878941  0.20756689  0.22780783  0.29454278\n",
      "   0.21905583  0.23446528  0.08231511  0.01038345]\n",
      " [ 0.05292012  0.40047256  0.21345775  0.2962995   0.18008755  0.26529531\n",
      "   0.21426009  0.          0.39275802  0.27205033]\n",
      " [ 0.3729987   0.37903456  0.42057134  0.          0.44466441  0.41413893\n",
      "   0.35720488  0.20355067  0.38627334  0.32951683]\n",
      " [ 0.46436737  0.44070356  0.55821298  0.58154187  0.24698627  0.3967709\n",
      "   0.47656796  0.02971256  0.57156254  0.48187791]\n",
      " [ 0.33100192  0.33585003  0.27250926  0.25721213  0.20859995  0.25789636\n",
      "   0.41970961  0.38522108  0.07486205  0.        ]]\n"
     ]
    },
    {
     "data": {
      "image/png": "[encoded data removed]",
      "text/plain": [
       "<matplotlib.figure.Figure at 0x7fd560139128>"
      ]
     },
     "metadata": {},
     "output_type": "display_data"
    }
   ],
   "source": [
    "images = [\"1+_20\", \"1+_25\", \"2+_1\",\"2+_8\",\"2+_9\",\"3+_19\"]\n",
    "type_im = [\"1+\",\"1+\",\"2+\",\"2+\",\"2+\",\"3+\"]\n",
    "n_seeds = 10\n",
    "n_im = len(images)\n",
    "f1 = np.zeros((n_im,n_seeds))\n",
    "prec = np.zeros((n_im,n_seeds))\n",
    "rec = np.zeros((n_im,n_seeds))\n",
    "for i in range(n_im):\n",
    "    path = \"/home/rpezoa/experiment_data/output/\" + images[i]+ \"_rpr_random_patches/\"\n",
    "    f = os.listdir(path)\n",
    "    #print(f)\n",
    "    big_target_path=\"/home/rpezoa/experiment_data/big_\" + type_im[i] + \"/labels/\" + images[i] + \".npy\"\n",
    "    \n",
    "    for j in range(n_seeds):\n",
    "        big_y0=np.load(big_target_path)\n",
    "        big_pred = np.load(path + 'deep_0/big_pred/' + str(j) + '_big_pred.npy')\n",
    "        f1[i,j] = f1_score(big_y0,big_pred)\n",
    "        prec[i,j] = precision_score(big_y0,big_pred)\n",
    "        rec[i,j] = recall_score(big_y0,big_pred)\n",
    "        #print(classification_report(big_y0,big_pred))\n",
    "f1.mean(),prec.mean(),rec.mean()\n",
    "print(f1)\n",
    "np.save(\"/home/rpezoa/experiment_data/output/f1_random_deep_0.npy\",f1)\n",
    "np.save(\"/home/rpezoa/experiment_data/output/prec_random_deep_0.npy\",prec)\n",
    "plt.figure()\n",
    "plt.boxplot(f1.T)\n",
    "#plt.boxplot(prec)\n",
    "plt.grid()\n",
    "plt.ylim(0,0.6)\n",
    "plt.show()"
   ]
  },
  {
   "cell_type": "code",
   "execution_count": 4,
   "metadata": {},
   "outputs": [
    {
     "name": "stdout",
     "output_type": "stream",
     "text": [
      "0.289195105088 0.411135606342 0.261201756629\n"
     ]
    }
   ],
   "source": [
    "print(f1.mean(),prec.mean(),rec.mean())"
   ]
  },
  {
   "cell_type": "markdown",
   "metadata": {},
   "source": [
    "## Random Forest"
   ]
  },
  {
   "cell_type": "code",
   "execution_count": 11,
   "metadata": {},
   "outputs": [
    {
     "name": "stdout",
     "output_type": "stream",
     "text": [
      "[[ 0.39822268  0.30912136  0.34568294  0.42192125  0.0178559   0.322993\n",
      "   0.39330795  0.40307854  0.3581362   0.30855798]\n",
      " [ 0.23025794  0.17743611  0.16835436  0.2627316   0.28474605  0.301524\n",
      "   0.23935834  0.23064918  0.04908041  0.007249  ]\n",
      " [ 0.12194996  0.31972281  0.08019894  0.31112588  0.14467177  0.20274281\n",
      "   0.21134492  0.24131059  0.33230245  0.17065041]\n",
      " [ 0.39808206  0.34863142  0.40813893  0.00859613  0.37951769  0.37866594\n",
      "   0.43588924  0.24234278  0.32103668  0.30093821]\n",
      " [ 0.44921898  0.46868621  0.55138963  0.52111393  0.31642974  0.36494179\n",
      "   0.49740653  0.00919339  0.56419646  0.50192206]\n",
      " [ 0.33053899  0.24262217  0.29842378  0.26060089  0.19163328  0.25698837\n",
      "   0.3734264   0.37752716  0.12184466  0.37021397]]\n"
     ]
    },
    {
     "data": {
      "image/png": "[encoded data removed]",
      "text/plain": [
       "<matplotlib.figure.Figure at 0x7fd531d099e8>"
      ]
     },
     "metadata": {},
     "output_type": "display_data"
    },
    {
     "data": {
      "image/png": "[encoded data removed]",
      "text/plain": [
       "<matplotlib.figure.Figure at 0x7fd5319c1c88>"
      ]
     },
     "metadata": {},
     "output_type": "display_data"
    }
   ],
   "source": [
    "images = [\"1+_20\", \"1+_25\", \"2+_1\",\"2+_8\",\"2+_9\",\"3+_19\"]\n",
    "type_im = [\"1+\",\"1+\",\"2+\",\"2+\",\"2+\",\"3+\"]\n",
    "n_seeds = 10\n",
    "n_im = len(images)\n",
    "f1 = np.zeros((n_im,n_seeds))\n",
    "prec = np.zeros((n_im,n_seeds))\n",
    "rec = np.zeros((n_im,n_seeds))\n",
    "for i in range(n_im):\n",
    "    path = \"/home/rpezoa/experiment_data/output/\" + images[i]+ \"_rpr_random_patches/\"\n",
    "    f = os.listdir(path)\n",
    "    #print(f)\n",
    "    big_target_path=\"/home/rpezoa/experiment_data/big_\" + type_im[i] + \"/labels/\" + images[i] + \".npy\"\n",
    "    \n",
    "    for j in range(n_seeds):\n",
    "        big_y0=np.load(big_target_path)\n",
    "        big_pred = np.load(path + 'rf_0/big_pred/' + str(j) + '_big_pred.npy')\n",
    "        f1[i,j] = f1_score(big_y0,big_pred)\n",
    "        prec[i,j] = precision_score(big_y0,big_pred)\n",
    "        rec[i,j] = recall_score(big_y0,big_pred)\n",
    "        #print(classification_report(big_y0,big_pred))\n",
    "f1.mean(),prec.mean(),rec.mean()\n",
    "print(f1)\n",
    "np.save(\"/home/rpezoa/experiment_data/output/f1_random_rf_0.npy\",f1)\n",
    "np.save(\"/home/rpezoa/experiment_data/output/prec_random_rf_0.npy\",prec)\n",
    "plt.figure()\n",
    "plt.boxplot(f1.T)\n",
    "#plt.boxplot(prec)\n",
    "plt.grid()\n",
    "plt.ylim(0,0.6)\n",
    "plt.show()\n",
    "\n",
    "plt.figure()\n",
    "plt.boxplot(prec.T)\n",
    "#plt.boxplot(prec)\n",
    "plt.grid()\n",
    "plt.ylim(0,0.6)\n",
    "plt.show()"
   ]
  },
  {
   "cell_type": "markdown",
   "metadata": {},
   "source": [
    "## KNN"
   ]
  },
  {
   "cell_type": "code",
   "execution_count": 9,
   "metadata": {},
   "outputs": [
    {
     "name": "stdout",
     "output_type": "stream",
     "text": [
      "[[ 0.40627376  0.36749056  0.34151681  0.42073195  0.01802794  0.32861338\n",
      "   0.38541771  0.42239851  0.33157239  0.39061779]\n",
      " [ 0.11465172  0.16847751  0.20323101  0.2752018   0.24245104  0.27285527\n",
      "   0.23841141  0.24392392  0.04782266  0.02340211]\n",
      " [ 0.15135278  0.28548528  0.13152395  0.27069303  0.14300618  0.24243111\n",
      "   0.20939147  0.27224441  0.28512077  0.24373335]\n",
      " [ 0.37596287  0.33520606  0.38383109  0.00814533  0.37423725  0.34416895\n",
      "   0.40338344  0.25787334  0.33791881  0.3068685 ]\n",
      " [ 0.45479442  0.44736749  0.53723789  0.48643447  0.33297683  0.3887707\n",
      "   0.51251188  0.04163738  0.54286097  0.48062505]\n",
      " [ 0.30182647  0.29579681  0.30482654  0.26713036  0.18494441  0.25354321\n",
      "   0.3745531   0.37699586  0.16093309  0.30817833]]\n"
     ]
    },
    {
     "data": {
      "image/png": "[encoded data removed]",
      "text/plain": [
       "<matplotlib.figure.Figure at 0x7fd531d72ef0>"
      ]
     },
     "metadata": {},
     "output_type": "display_data"
    }
   ],
   "source": [
    "images = [\"1+_20\", \"1+_25\", \"2+_1\",\"2+_8\",\"2+_9\",\"3+_19\"]\n",
    "type_im = [\"1+\",\"1+\",\"2+\",\"2+\",\"2+\",\"3+\"]\n",
    "n_seeds = 10\n",
    "n_im = len(images)\n",
    "f1 = np.zeros((n_im,n_seeds))\n",
    "prec = np.zeros((n_im,n_seeds))\n",
    "rec = np.zeros((n_im,n_seeds))\n",
    "for i in range(n_im):\n",
    "    path = \"/home/rpezoa/experiment_data/output/\" + images[i]+ \"_rpr_random_patches/\"\n",
    "    f = os.listdir(path)\n",
    "    #print(f)\n",
    "    big_target_path=\"/home/rpezoa/experiment_data/big_\" + type_im[i] + \"/labels/\" + images[i] + \".npy\"\n",
    "    \n",
    "    for j in range(n_seeds):\n",
    "        big_y0=np.load(big_target_path)\n",
    "        big_pred = np.load(path + 'knn_0/big_pred/' + str(j) + '_big_pred.npy')\n",
    "        f1[i,j] = f1_score(big_y0,big_pred)\n",
    "        prec[i,j] = precision_score(big_y0,big_pred)\n",
    "        rec[i,j] = recall_score(big_y0,big_pred)\n",
    "        #print(classification_report(big_y0,big_pred))\n",
    "f1.mean(),prec.mean(),rec.mean()\n",
    "print(f1)\n",
    "np.save(\"/home/rpezoa/experiment_data/output/f1_random_knn_0.npy\",f1)\n",
    "np.save(\"/home/rpezoa/experiment_data/output/prec_random_knn_0.npy\",prec)\n",
    "plt.figure()\n",
    "plt.boxplot(f1.T)\n",
    "#plt.boxplot(prec)\n",
    "plt.grid()\n",
    "plt.ylim(0,0.6)\n",
    "plt.show()"
   ]
  },
  {
   "cell_type": "markdown",
   "metadata": {},
   "source": [
    "## Extra Trees"
   ]
  },
  {
   "cell_type": "code",
   "execution_count": 10,
   "metadata": {},
   "outputs": [
    {
     "name": "stdout",
     "output_type": "stream",
     "text": [
      "[[ 0.41219568  0.33186447  0.34457563  0.43390337  0.04112199  0.3538437\n",
      "   0.38568048  0.4156698   0.36624964  0.37616387]\n",
      " [ 0.22001146  0.15035063  0.17916715  0.24695641  0.26002897  0.29159607\n",
      "   0.23103337  0.22572842  0.04412052  0.00697034]\n",
      " [ 0.12438012  0.31228216  0.20322123  0.32717709  0.14096474  0.23720468\n",
      "   0.22298128  0.25179555  0.32299566  0.19439748]\n",
      " [ 0.37093202  0.33829398  0.40812062  0.00846192  0.38846369  0.36069194\n",
      "   0.42573391  0.24517556  0.30628263  0.28746967]\n",
      " [ 0.45086174  0.45529328  0.55526712  0.50855869  0.31251771  0.37547465\n",
      "   0.5273967   0.0126253   0.57404314  0.50463701]\n",
      " [ 0.31116785  0.27239323  0.3022581   0.25738799  0.18376953  0.25632261\n",
      "   0.37281696  0.37389685  0.12088628  0.36535368]]\n"
     ]
    },
    {
     "data": {
      "image/png": "[encoded data removed]",
      "text/plain": [
       "<matplotlib.figure.Figure at 0x7fd531d26940>"
      ]
     },
     "metadata": {},
     "output_type": "display_data"
    }
   ],
   "source": [
    "images = [\"1+_20\", \"1+_25\", \"2+_1\",\"2+_8\",\"2+_9\",\"3+_19\"]\n",
    "type_im = [\"1+\",\"1+\",\"2+\",\"2+\",\"2+\",\"3+\"]\n",
    "n_seeds = 10\n",
    "n_im = len(images)\n",
    "f1 = np.zeros((n_im,n_seeds))\n",
    "prec = np.zeros((n_im,n_seeds))\n",
    "rec = np.zeros((n_im,n_seeds))\n",
    "for i in range(n_im):\n",
    "    path = \"/home/rpezoa/experiment_data/output/\" + images[i]+ \"_rpr_random_patches/\"\n",
    "    f = os.listdir(path)\n",
    "    #print(f)\n",
    "    big_target_path=\"/home/rpezoa/experiment_data/big_\" + type_im[i] + \"/labels/\" + images[i] + \".npy\"\n",
    "    \n",
    "    for j in range(n_seeds):\n",
    "        big_y0=np.load(big_target_path)\n",
    "        big_pred = np.load(path + 'extra_trees_0/big_pred/' + str(j) + '_big_pred.npy')\n",
    "        f1[i,j] = f1_score(big_y0,big_pred)\n",
    "        prec[i,j] = precision_score(big_y0,big_pred)\n",
    "        rec[i,j] = recall_score(big_y0,big_pred)\n",
    "        #print(classification_report(big_y0,big_pred))\n",
    "f1.mean(),prec.mean(),rec.mean()\n",
    "print(f1)\n",
    "np.save(\"/home/rpezoa/experiment_data/output/f1_random_et_0.npy\",f1)\n",
    "np.save(\"/home/rpezoa/experiment_data/output/prec_random_et_0.npy\",prec)\n",
    "plt.figure()\n",
    "plt.boxplot(f1.T)\n",
    "#plt.boxplot(prec)\n",
    "plt.grid()\n",
    "plt.ylim(0,0.6)\n",
    "plt.show()"
   ]
  },
  {
   "cell_type": "code",
   "execution_count": null,
   "metadata": {
    "collapsed": true
   },
   "outputs": [],
   "source": []
  }
 ],
 "metadata": {
  "kernelspec": {
   "display_name": "Python 3",
   "language": "python",
   "name": "python3"
  },
  "language_info": {
   "codemirror_mode": {
    "name": "ipython",
    "version": 3
   },
   "file_extension": ".py",
   "mimetype": "text/x-python",
   "name": "python",
   "nbconvert_exporter": "python",
   "pygments_lexer": "ipython3",
   "version": "3.6.1"
  }
 },
 "nbformat": 4,
 "nbformat_minor": 2
}
