{
 "cells": [
  {
   "cell_type": "markdown",
   "metadata": {},
   "source": [
    "## Experimento de selección 5 halton patches para la imagen 2+_8"
   ]
  },
  {
   "cell_type": "code",
   "execution_count": 1,
   "metadata": {
    "collapsed": true
   },
   "outputs": [],
   "source": [
    "import os\n",
    "import numpy as np\n",
    "from sklearn.metrics import accuracy_score, f1_score, precision_score, recall_score, classification_report\n",
    "from matplotlib import pyplot as plt"
   ]
  },
  {
   "cell_type": "code",
   "execution_count": 2,
   "metadata": {
    "collapsed": true
   },
   "outputs": [],
   "source": [
    "base_dir = \"/home/rpezoa/experiment_data/\"\n",
    "output_dir = base_dir + \"output/\"\n",
    "images = [\"1+_20\", \"1+_25\", \"2+_1\", \"2+_8\", \"2+_9\", \"3+_19\"]\n",
    "type_im = [\"1+\",\"1+\",\"2+\",\"2+\",\"2+\", \"3+\"]\n",
    "seeds = [0,1,2,3,4,5,6,7,8,9]\n",
    "n_images = len(images)\n",
    "images_dir = [None] * n_images\n",
    "\n",
    "classifiers=[\"deep_0_cross\", \"extra_trees_0_cross\",\"knn_0_cross\",\"rf_0_cross\", \"svm_0\"]\n",
    "#classifiers=[\"knn_0_cross\",\"rf_0_cross\", \"svm_0\"]"
   ]
  },
  {
   "cell_type": "code",
   "execution_count": 3,
   "metadata": {},
   "outputs": [
    {
     "name": "stdout",
     "output_type": "stream",
     "text": [
      "classifier: deep_0_cross\n"
     ]
    },
    {
     "name": "stderr",
     "output_type": "stream",
     "text": [
      "/home/rpezoa/anaconda3/lib/python3.6/site-packages/sklearn/metrics/classification.py:1113: UndefinedMetricWarning: F-score is ill-defined and being set to 0.0 due to no predicted samples.\n",
      "  'precision', 'predicted', average, warn_for)\n",
      "/home/rpezoa/anaconda3/lib/python3.6/site-packages/sklearn/metrics/classification.py:1113: UndefinedMetricWarning: Precision is ill-defined and being set to 0.0 due to no predicted samples.\n",
      "  'precision', 'predicted', average, warn_for)\n"
     ]
    },
    {
     "name": "stdout",
     "output_type": "stream",
     "text": [
      "classifier: extra_trees_0_cross\n",
      "classifier: knn_0_cross\n",
      "classifier: rf_0_cross\n",
      "classifier: svm_0\n"
     ]
    }
   ],
   "source": [
    "n_seeds = 10\n",
    "n_im = len(images)\n",
    "n_class = len(classifiers)\n",
    "f1 = np.zeros((n_im,n_seeds,n_class))\n",
    "prec = np.zeros((n_im,n_seeds,n_class))\n",
    "rec = np.zeros((n_im,n_seeds,n_class))\n",
    "\n",
    "\n",
    "for c,clf in enumerate(classifiers):\n",
    "    print(\"classifier:\", clf)\n",
    "    for i in range(n_im):\n",
    "        path = \"/home/rpezoa/experiment_data/output/\" + images[i]+ \"_rpr_random_patches/\"\n",
    "        #f = os.listdir(path)\n",
    "        #print(f)\n",
    "        big_target_path=\"/home/rpezoa/experiment_data/big_\" + type_im[i] + \"/labels/\" + images[i] + \".npy\"\n",
    "        big_y0=np.load(big_target_path)\n",
    "        for j in range(n_seeds):\n",
    "\n",
    "            big_pred = np.load(path + clf + '/big_pred/' + str(j) + '_big_pred.npy')\n",
    "            f1[i,j,c] = f1_score(big_y0,big_pred)\n",
    "            prec[i,j,c] = precision_score(big_y0,big_pred)\n",
    "            rec[i,j,c] = recall_score(big_y0,big_pred)\n",
    "            #print(classification_report(big_y0,big_pred))\n",
    "                "
   ]
  },
  {
   "cell_type": "markdown",
   "metadata": {},
   "source": [
    "## Creating new matrix with 60 rows (6 images* 10 seeds x 5 classifiers )"
   ]
  },
  {
   "cell_type": "code",
   "execution_count": 4,
   "metadata": {},
   "outputs": [
    {
     "name": "stdout",
     "output_type": "stream",
     "text": [
      "(60, 5)\n"
     ]
    }
   ],
   "source": [
    "n_runs = n_seeds*n_im\n",
    "f1_imgs_clfs = np.reshape(f1, (n_runs,n_class))\n",
    "print(f1_imgs_clfs.shape)"
   ]
  },
  {
   "cell_type": "markdown",
   "metadata": {},
   "source": [
    "## Boxplot performance per classifier"
   ]
  },
  {
   "cell_type": "code",
   "execution_count": 6,
   "metadata": {},
   "outputs": [
    {
     "data": {
      "image/png": "[encoded data removed]",
      "text/plain": [
       "<matplotlib.figure.Figure at 0x7f30eff34e48>"
      ]
     },
     "metadata": {},
     "output_type": "display_data"
    }
   ],
   "source": [
    "plt.figure()\n",
    "plt.boxplot(f1_imgs_clfs,showmeans=True)\n",
    "plt.xticks(range(1,6),[\"ANN\", \"ET\", \"KNN\", \"RF\", \"SVM\"])\n",
    "plt.grid()\n",
    "plt.ylabel(\"$F_1$\")\n",
    "plt.show()"
   ]
  },
  {
   "cell_type": "code",
   "execution_count": 14,
   "metadata": {},
   "outputs": [
    {
     "name": "stdout",
     "output_type": "stream",
     "text": [
      "[ 0.28994222  0.25882235  0.29493741  0.29055318  0.21804166]\n"
     ]
    },
    {
     "data": {
      "image/png": "[encoded data removed]",
      "text/plain": [
       "<matplotlib.figure.Figure at 0x7fdbbd7b2898>"
      ]
     },
     "metadata": {},
     "output_type": "display_data"
    }
   ],
   "source": [
    "means = np.zeros((len(classifiers)))\n",
    "for c in range(len(classifiers)):\n",
    "    means[c] = f1[:,:,c].mean()\n",
    "    \n",
    "print(means)\n",
    "plt.figure()\n",
    "plt.plot(means,'o')\n",
    "plt.grid()\n",
    "plt.show()"
   ]
  },
  {
   "cell_type": "code",
   "execution_count": 15,
   "metadata": {},
   "outputs": [
    {
     "name": "stdout",
     "output_type": "stream",
     "text": [
      "[ 0.43413895  0.42705822  0.37956516  0.4210705   0.26104318]\n"
     ]
    },
    {
     "data": {
      "image/png": "[encoded data removed]",
      "text/plain": [
       "<matplotlib.figure.Figure at 0x7fdbbd811b38>"
      ]
     },
     "metadata": {},
     "output_type": "display_data"
    }
   ],
   "source": [
    "means = np.zeros((len(classifiers)))\n",
    "for c in range(len(classifiers)):\n",
    "    means[c] = prec[:,:,c].mean()\n",
    "    \n",
    "print(means)\n",
    "plt.figure()\n",
    "plt.plot(means,'o')\n",
    "plt.grid()\n",
    "plt.show()"
   ]
  },
  {
   "cell_type": "code",
   "execution_count": 16,
   "metadata": {
    "collapsed": true
   },
   "outputs": [],
   "source": [
    "np.save(\"/home/rpezoa/experiment_data/output/f1_random.npy\",f1)\n",
    "np.save(\"/home/rpezoa/experiment_data/output/prec_random.npy\",prec)"
   ]
  },
  {
   "cell_type": "code",
   "execution_count": null,
   "metadata": {
    "collapsed": true
   },
   "outputs": [],
   "source": []
  },
  {
   "cell_type": "code",
   "execution_count": null,
   "metadata": {
    "collapsed": true
   },
   "outputs": [],
   "source": []
  }
 ],
 "metadata": {
  "kernelspec": {
   "display_name": "Python 3",
   "language": "python",
   "name": "python3"
  },
  "language_info": {
   "codemirror_mode": {
    "name": "ipython",
    "version": 3
   },
   "file_extension": ".py",
   "mimetype": "text/x-python",
   "name": "python",
   "nbconvert_exporter": "python",
   "pygments_lexer": "ipython3",
   "version": "3.6.1"
  }
 },
 "nbformat": 4,
 "nbformat_minor": 2
}
