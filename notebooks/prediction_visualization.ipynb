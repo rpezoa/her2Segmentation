{
 "cells": [
  {
   "cell_type": "code",
   "execution_count": 1,
   "metadata": {},
   "outputs": [
    {
     "name": "stdout",
     "output_type": "stream",
     "text": [
      "Populating the interactive namespace from numpy and matplotlib\n"
     ]
    }
   ],
   "source": [
    "import numpy as np\n",
    "from matplotlib import pyplot as plt\n",
    "\n",
    "\n",
    "%pylab inline\n"
   ]
  },
  {
   "cell_type": "code",
   "execution_count": 4,
   "metadata": {
    "collapsed": true
   },
   "outputs": [],
   "source": [
    "base_dir = \"/home/rpezoa/experiment_data/\"\n",
    "images=[\"1+_20\", \"1+_25\", \"2+_1\", \"2+_8\", \"2+_9\",\"3+_19\"]\n",
    "type_im = [\"1+\",\"1+\",\"2+\",\"2+\",\"2+\",\"3+\"]\n",
    "classifiers = [\"deep_0_cross\",\"svm_0\",\"rf_0_cross\", \"extra_trees_0_cross\", \"knn_0_cross\"]\n",
    "classifiers = [\"deep_0_cross_test_data\"]\n",
    "images=[\"2+_8\"]\n",
    "type_im = [\"2+\"]\n",
    "#classifiers = [\"rf_0_cross\"]\n"
   ]
  },
  {
   "cell_type": "code",
   "execution_count": 5,
   "metadata": {
    "scrolled": true
   },
   "outputs": [
    {
     "name": "stdout",
     "output_type": "stream",
     "text": [
      "2+_8\n",
      "deep_0_cross_test_data\n"
     ]
    },
    {
     "ename": "FileNotFoundError",
     "evalue": "[Errno 2] No such file or directory: '/home/rpezoa/experiment_data/output/2+_8_rpr_halton_patches_10_k/deep_0_cross_test_data/big_pred/1_big_pred.npy'",
     "output_type": "error",
     "traceback": [
      "\u001b[0;31m---------------------------------------------------------------------------\u001b[0m",
      "\u001b[0;31mFileNotFoundError\u001b[0m                         Traceback (most recent call last)",
      "\u001b[0;32m<ipython-input-5-81a76b8e21fc>\u001b[0m in \u001b[0;36m<module>\u001b[0;34m()\u001b[0m\n\u001b[1;32m     69\u001b[0m             \u001b[0;31m#reading the prediction\u001b[0m\u001b[0;34m\u001b[0m\u001b[0;34m\u001b[0m\u001b[0m\n\u001b[1;32m     70\u001b[0m             the_pred = np.load(base_dir + \"output/\" + images[i] +  \n\u001b[0;32m---> 71\u001b[0;31m                                \"_rpr_\"+method+\"/\" + clf + \"/big_pred/\" + str(j)+ \"_big_pred.npy\")\n\u001b[0m\u001b[1;32m     72\u001b[0m             \u001b[0mthe_pred_as_im\u001b[0m \u001b[0;34m=\u001b[0m \u001b[0mnp\u001b[0m\u001b[0;34m.\u001b[0m\u001b[0mreshape\u001b[0m\u001b[0;34m(\u001b[0m\u001b[0mthe_pred\u001b[0m\u001b[0;34m,\u001b[0m\u001b[0;34m(\u001b[0m\u001b[0mrows_b\u001b[0m\u001b[0;34m,\u001b[0m\u001b[0mcols_b\u001b[0m\u001b[0;34m)\u001b[0m\u001b[0;34m)\u001b[0m\u001b[0;34m\u001b[0m\u001b[0m\n\u001b[1;32m     73\u001b[0m \u001b[0;34m\u001b[0m\u001b[0m\n",
      "\u001b[0;32m/home/rpezoa/anaconda3/lib/python3.6/site-packages/numpy/lib/npyio.py\u001b[0m in \u001b[0;36mload\u001b[0;34m(file, mmap_mode, allow_pickle, fix_imports, encoding)\u001b[0m\n\u001b[1;32m    368\u001b[0m     \u001b[0mown_fid\u001b[0m \u001b[0;34m=\u001b[0m \u001b[0;32mFalse\u001b[0m\u001b[0;34m\u001b[0m\u001b[0m\n\u001b[1;32m    369\u001b[0m     \u001b[0;32mif\u001b[0m \u001b[0misinstance\u001b[0m\u001b[0;34m(\u001b[0m\u001b[0mfile\u001b[0m\u001b[0;34m,\u001b[0m \u001b[0mbasestring\u001b[0m\u001b[0;34m)\u001b[0m\u001b[0;34m:\u001b[0m\u001b[0;34m\u001b[0m\u001b[0m\n\u001b[0;32m--> 370\u001b[0;31m         \u001b[0mfid\u001b[0m \u001b[0;34m=\u001b[0m \u001b[0mopen\u001b[0m\u001b[0;34m(\u001b[0m\u001b[0mfile\u001b[0m\u001b[0;34m,\u001b[0m \u001b[0;34m\"rb\"\u001b[0m\u001b[0;34m)\u001b[0m\u001b[0;34m\u001b[0m\u001b[0m\n\u001b[0m\u001b[1;32m    371\u001b[0m         \u001b[0mown_fid\u001b[0m \u001b[0;34m=\u001b[0m \u001b[0;32mTrue\u001b[0m\u001b[0;34m\u001b[0m\u001b[0m\n\u001b[1;32m    372\u001b[0m     \u001b[0;32melif\u001b[0m \u001b[0mis_pathlib_path\u001b[0m\u001b[0;34m(\u001b[0m\u001b[0mfile\u001b[0m\u001b[0;34m)\u001b[0m\u001b[0;34m:\u001b[0m\u001b[0;34m\u001b[0m\u001b[0m\n",
      "\u001b[0;31mFileNotFoundError\u001b[0m: [Errno 2] No such file or directory: '/home/rpezoa/experiment_data/output/2+_8_rpr_halton_patches_10_k/deep_0_cross_test_data/big_pred/1_big_pred.npy'"
     ]
    }
   ],
   "source": [
    "rows_b=1000\n",
    "cols_b=1000\n",
    "show = False\n",
    "#method=\"stratified_random\"\n",
    "method=\"halton_patches_10_k\"\n",
    "if method == \"stratified_random\":\n",
    "    classifiers = [\"deep_0_cross\",\"svm_0_cross\",\"rf_0_cross\", \"extra_trees_0_cross\", \"knn_0_cross\"]\n",
    "def tp_im(big_im,the_gold_standard_as_im,the_pred_as_im):\n",
    "    the_im2 = big_im[:,:,0:3].copy()\n",
    "    for r in range(rows_b):\n",
    "        for s in range(cols_b):\n",
    "            if the_gold_standard_as_im[r,s] == 1 and the_pred_as_im[r,s] == 1:\n",
    "                the_im2[r,s,0] = 0\n",
    "                the_im2[r,s,1] = 255\n",
    "                the_im2[r,s,2] = 0\n",
    "    return the_im2\n",
    "\n",
    "def tp_fp_im(big_im,the_gold_standard_as_im,the_pred_as_im):\n",
    "    the_im2 = big_im[:,:,0:3].copy()\n",
    "    for r in range(rows_b):\n",
    "        for s in range(cols_b):\n",
    "            if (the_gold_standard_as_im[r,s] == 1 and the_pred_as_im[r,s] == 1) or (the_gold_standard_as_im[r,s] == 0 and the_pred_as_im[r,s] == 1):\n",
    "                the_im2[r,s,0] = 0\n",
    "                the_im2[r,s,1] = 255\n",
    "                the_im2[r,s,2] = 0\n",
    "    return the_im2\n",
    "\n",
    "def tp_fp_colors(big_im,the_gold_standard_as_im,the_pred_as_im):\n",
    "    the_im2 = big_im[:,:,0:3].copy()\n",
    "    for r in range(rows_b):\n",
    "        for s in range(cols_b):\n",
    "            if the_gold_standard_as_im[r,s] == 1 and the_pred_as_im[r,s] == 1:\n",
    "                the_im2[r,s,0] = 255\n",
    "                the_im2[r,s,1] = 0\n",
    "                the_im2[r,s,2] = 0\n",
    "            elif the_gold_standard_as_im[r,s] == 0 and the_pred_as_im[r,s] == 1:\n",
    "                the_im2[r,s,0] = 0\n",
    "                the_im2[r,s,1] = 0\n",
    "                the_im2[r,s,2] = 255\n",
    "    return the_im2\n",
    "    \n",
    "def tp_fp_fn_colors(big_im,the_gold_standard_as_im,the_pred_as_im):\n",
    "    the_im2 = big_im[:,:,0:3].copy()\n",
    "    for r in range(rows_b):\n",
    "        for s in range(cols_b):\n",
    "            if the_gold_standard_as_im[r,s] == 1 and the_pred_as_im[r,s] == 1:\n",
    "                the_im2[r,s,0] = 255\n",
    "                the_im2[r,s,1] = 0\n",
    "                the_im2[r,s,2] = 0\n",
    "            elif the_gold_standard_as_im[r,s] == 0 and the_pred_as_im[r,s] == 1:\n",
    "                the_im2[r,s,0] = 0\n",
    "                the_im2[r,s,1] = 0\n",
    "                the_im2[r,s,2] = 255\n",
    "            elif the_gold_standard_as_im[r,s] == 1 and the_pred_as_im[r,s] == 0:\n",
    "                the_im2[r,s,0] = 0\n",
    "                the_im2[r,s,1] = 255\n",
    "                the_im2[r,s,2] = 255\n",
    "    return the_im2\n",
    "\n",
    "for i,im in enumerate(images):\n",
    "    print(im)\n",
    "    big_target_path= np.load(base_dir + \"big_\" + type_im[i] + \"/labels/\" + images[i] + \".npy\")\n",
    "    the_gold_standard_as_im = np.reshape(big_target_path,(rows_b,cols_b))\n",
    "    for clf in classifiers:\n",
    "        print(clf)\n",
    "        for j in range(10):\n",
    "            big_im = plt.imread(base_dir + \"big_\" + type_im[i] + \"/img/\" +im + \".tif\")\n",
    "            \n",
    "            #reading the prediction\n",
    "            the_pred = np.load(base_dir + \"output/\" + images[i] +  \n",
    "                               \"_rpr_\"+method+\"/\" + clf + \"/big_pred/\" + str(j)+ \"_big_pred.npy\")\n",
    "            the_pred_as_im = np.reshape(the_pred,(rows_b,cols_b))\n",
    "            \n",
    "            #only the true positive\n",
    "            #tp_vis = tp_im(big_im,the_gold_standard_as_im,the_pred_as_im)\n",
    "            \n",
    "            #true positive and false positive, i.e., the classifier prediction\n",
    "            tp_fp_vis = tp_fp_fn_colors(big_im,the_gold_standard_as_im,the_pred_as_im)\n",
    "            \n",
    "            plt.imsave(base_dir + \"output/\" + images[i] + \"_rpr_\"+method+ \"/\" + \n",
    "                       clf + \"/\" + str(j) + \"_pred_3.png\", tp_fp_vis)\n",
    "\n",
    "            if show:\n",
    "                plt.figure(figsize=(10,10))             \n",
    "                plt.imshow(tp_vis)\n",
    "                plt.title(\"TP\")\n",
    "                plt.axis(\"off\")\n",
    "                plt.show()\n",
    "\n",
    "                plt.figure(figsize=(10,10))             \n",
    "                plt.imshow(tp_fp_vis)\n",
    "                plt.title(\"TP+FP\")\n",
    "                plt.axis(\"off\")\n",
    "                plt.show()\n",
    "\n",
    "        \n"
   ]
  },
  {
   "cell_type": "code",
   "execution_count": null,
   "metadata": {
    "collapsed": true
   },
   "outputs": [],
   "source": []
  }
 ],
 "metadata": {
  "anaconda-cloud": {},
  "kernelspec": {
   "display_name": "Python 3",
   "language": "python",
   "name": "python3"
  },
  "language_info": {
   "codemirror_mode": {
    "name": "ipython",
    "version": 3
   },
   "file_extension": ".py",
   "mimetype": "text/x-python",
   "name": "python",
   "nbconvert_exporter": "python",
   "pygments_lexer": "ipython3",
   "version": "3.6.1"
  }
 },
 "nbformat": 4,
 "nbformat_minor": 1
}
