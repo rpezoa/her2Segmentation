{
 "cells": [
  {
   "cell_type": "code",
   "execution_count": 104,
   "metadata": {
    "collapsed": true
   },
   "outputs": [],
   "source": [
    "import numpy as np\n",
    "import sys\n",
    "import os\n",
    "from matplotlib import pyplot as plt\n",
    "from sklearn.metrics import (recall_score, accuracy_score, precision_score,f1_score,\n",
    "                             roc_auc_score, average_precision_score,make_scorer, \n",
    "                             confusion_matrix, fbeta_score, roc_curve,\n",
    "                             matthews_corrcoef)\n",
    "\n",
    "from matplotlib import rc\n",
    "rc('font',**{'family':'serif','serif':['Palatino'],'size':16})\n",
    "rc('text', usetex=True)\n"
   ]
  },
  {
   "cell_type": "markdown",
   "metadata": {},
   "source": [
    "## Generation of validation data (deleting pixels used as training data)"
   ]
  },
  {
   "cell_type": "code",
   "execution_count": 105,
   "metadata": {
    "collapsed": true
   },
   "outputs": [],
   "source": [
    "def get_metric_array(labels_dir, prob_dir, true_label, n_seeds):\n",
    "    print()\n",
    "    try:\n",
    "        labels = np.load(labels_dir)\n",
    "        print(labels.shape)\n",
    "        y_prob = np.load(prob_dir)\n",
    "        print(y_prob.shape)\n",
    "        cm = confusion_matrix(true_label, labels)\n",
    "        cm_n = cm.astype('float') / cm.sum(axis=1)[:, np.newaxis]\n",
    "    except:\n",
    "        labels = None\n",
    "        y_prob = None\n",
    "        cm = None\n",
    "        exc_type, exc_value, exc_traceback = sys.exc_info()\n",
    "        print(\"Error:\", exc_value)\n",
    "        return None\n",
    "    \n",
    "    if labels is not None:\n",
    "        f1 = f1_score(true_label,labels)\n",
    "        acc = accuracy_score(true_label,labels)\n",
    "        prec = precision_score(true_label,labels)\n",
    "        tn_n = cm_n[0,0]\n",
    "        tp_n = cm_n[1,1]\n",
    "        fp_n = cm_n[0,1]\n",
    "        fn_n = cm_n[1,0]\n",
    "        prec_n = tp_n/(tp_n + fp_n)\n",
    "        rec = recall_score(true_label,labels)\n",
    "        roc = roc_auc_score(true_label,labels)\n",
    "        fpr, tpr, thresholds = roc_curve(true_label, y_prob, pos_label=1)\n",
    "        prec_rec= average_precision_score(true_label,y_prob)\n",
    "        f2= fbeta_score(true_label,labels,beta=2)\n",
    "        roc_prob = roc_auc_score(true_label,y_prob)\n",
    "\n",
    "        tn=cm[0,0]\n",
    "        fp=cm[0,1]\n",
    "        fn=cm[1,0]\n",
    "        tp=cm[1,1]\n",
    "        tot=cm.sum()\n",
    "        spec = tn/(tn+fp)\n",
    "        fallout = fp/(fp+tn)\n",
    "        fnr = fn/(fn+fp)\n",
    "        gce = 1/tot*np.min([fn*(fn+2*tp)/(tp+fn) + fp*(fp+2*tn)/(tn+fp) , fp*(fp+2*tp)/(tp+fp) + fn*(fn + 2*tn)/(tn+fn)])\n",
    "\n",
    "    return {\"f1\":f1, \"acc\":acc, \"prec\":prec, \"rec\":rec, \"roc\":roc, \"spec\": spec,\"prec_n\":prec_n,\n",
    "           \"prec_rec\": prec_rec, \"fallout\":fallout, \"fnr\":fnr,\"f2\":f2, \"gce\":gce, \"roc_prob\":roc_prob,\n",
    "           \"fpr\": fpr, \"tpr\":tpr }\n"
   ]
  },
  {
   "cell_type": "code",
   "execution_count": 107,
   "metadata": {
    "scrolled": true
   },
   "outputs": [
    {
     "name": "stdout",
     "output_type": "stream",
     "text": [
      ":::: Image : 1+_20 ::::\n",
      "validation_feat_vec.shape (987005,)\n",
      "validation_target_vec.shape (987005,)\n",
      "validation_feat_vec.shape (987000,)\n",
      "validation_target_vec.shape (987000,)\n",
      "validation_feat_vec.shape (987006,)\n",
      "validation_target_vec.shape (987006,)\n",
      "validation_feat_vec.shape (986999,)\n",
      "validation_target_vec.shape (986999,)\n",
      "validation_feat_vec.shape (986997,)\n",
      "validation_target_vec.shape (986997,)\n",
      "validation_feat_vec.shape (987002,)\n",
      "validation_target_vec.shape (987002,)\n",
      "validation_feat_vec.shape (987002,)\n",
      "validation_target_vec.shape (987002,)\n",
      "validation_feat_vec.shape (987002,)\n",
      "validation_target_vec.shape (987002,)\n",
      "validation_feat_vec.shape (987011,)\n",
      "validation_target_vec.shape (987011,)\n",
      "validation_feat_vec.shape (987002,)\n",
      "validation_target_vec.shape (987002,)\n",
      "\n",
      "\n",
      ":::: Image : 1+_25 ::::\n",
      "validation_feat_vec.shape (987008,)\n",
      "validation_target_vec.shape (987008,)\n",
      "validation_feat_vec.shape (987000,)\n",
      "validation_target_vec.shape (987000,)\n",
      "validation_feat_vec.shape (987007,)\n",
      "validation_target_vec.shape (987007,)\n",
      "validation_feat_vec.shape (987000,)\n",
      "validation_target_vec.shape (987000,)\n",
      "validation_feat_vec.shape (986997,)\n",
      "validation_target_vec.shape (986997,)\n",
      "validation_feat_vec.shape (987002,)\n",
      "validation_target_vec.shape (987002,)\n",
      "validation_feat_vec.shape (987002,)\n",
      "validation_target_vec.shape (987002,)\n",
      "validation_feat_vec.shape (987002,)\n",
      "validation_target_vec.shape (987002,)\n",
      "validation_feat_vec.shape (987008,)\n",
      "validation_target_vec.shape (987008,)\n",
      "validation_feat_vec.shape (987003,)\n",
      "validation_target_vec.shape (987003,)\n",
      "\n",
      "\n",
      ":::: Image : 2+_1 ::::\n",
      "validation_feat_vec.shape (987002,)\n",
      "validation_target_vec.shape (987002,)\n",
      "validation_feat_vec.shape (987006,)\n",
      "validation_target_vec.shape (987006,)\n",
      "validation_feat_vec.shape (987001,)\n",
      "validation_target_vec.shape (987001,)\n",
      "validation_feat_vec.shape (987005,)\n",
      "validation_target_vec.shape (987005,)\n",
      "validation_feat_vec.shape (987001,)\n",
      "validation_target_vec.shape (987001,)\n",
      "validation_feat_vec.shape (986999,)\n",
      "validation_target_vec.shape (986999,)\n",
      "validation_feat_vec.shape (987001,)\n",
      "validation_target_vec.shape (987001,)\n",
      "validation_feat_vec.shape (987004,)\n",
      "validation_target_vec.shape (987004,)\n",
      "validation_feat_vec.shape (987007,)\n",
      "validation_target_vec.shape (987007,)\n",
      "validation_feat_vec.shape (987001,)\n",
      "validation_target_vec.shape (987001,)\n",
      "\n",
      "\n",
      ":::: Image : 2+_8 ::::\n",
      "validation_feat_vec.shape (987002,)\n",
      "validation_target_vec.shape (987002,)\n",
      "validation_feat_vec.shape (987005,)\n",
      "validation_target_vec.shape (987005,)\n",
      "validation_feat_vec.shape (987002,)\n",
      "validation_target_vec.shape (987002,)\n",
      "validation_feat_vec.shape (987005,)\n",
      "validation_target_vec.shape (987005,)\n",
      "validation_feat_vec.shape (987001,)\n",
      "validation_target_vec.shape (987001,)\n",
      "validation_feat_vec.shape (987000,)\n",
      "validation_target_vec.shape (987000,)\n",
      "validation_feat_vec.shape (987001,)\n",
      "validation_target_vec.shape (987001,)\n",
      "validation_feat_vec.shape (987005,)\n",
      "validation_target_vec.shape (987005,)\n",
      "validation_feat_vec.shape (987007,)\n",
      "validation_target_vec.shape (987007,)\n",
      "validation_feat_vec.shape (987001,)\n",
      "validation_target_vec.shape (987001,)\n",
      "\n",
      "\n",
      ":::: Image : 2+_9 ::::\n",
      "validation_feat_vec.shape (987002,)\n",
      "validation_target_vec.shape (987002,)\n",
      "validation_feat_vec.shape (987000,)\n",
      "validation_target_vec.shape (987000,)\n",
      "validation_feat_vec.shape (987003,)\n",
      "validation_target_vec.shape (987003,)\n",
      "validation_feat_vec.shape (986998,)\n",
      "validation_target_vec.shape (986998,)\n",
      "validation_feat_vec.shape (987000,)\n",
      "validation_target_vec.shape (987000,)\n",
      "validation_feat_vec.shape (987004,)\n",
      "validation_target_vec.shape (987004,)\n",
      "validation_feat_vec.shape (986999,)\n",
      "validation_target_vec.shape (986999,)\n",
      "validation_feat_vec.shape (987001,)\n",
      "validation_target_vec.shape (987001,)\n",
      "validation_feat_vec.shape (987005,)\n",
      "validation_target_vec.shape (987005,)\n",
      "validation_feat_vec.shape (986997,)\n",
      "validation_target_vec.shape (986997,)\n",
      "\n",
      "\n",
      ":::: Image : 3+_19 ::::\n",
      "validation_feat_vec.shape (987004,)\n",
      "validation_target_vec.shape (987004,)\n",
      "validation_feat_vec.shape (987006,)\n",
      "validation_target_vec.shape (987006,)\n",
      "validation_feat_vec.shape (987005,)\n",
      "validation_target_vec.shape (987005,)\n",
      "validation_feat_vec.shape (987004,)\n",
      "validation_target_vec.shape (987004,)\n",
      "validation_feat_vec.shape (987002,)\n",
      "validation_target_vec.shape (987002,)\n",
      "validation_feat_vec.shape (987001,)\n",
      "validation_target_vec.shape (987001,)\n",
      "validation_feat_vec.shape (987004,)\n",
      "validation_target_vec.shape (987004,)\n",
      "validation_feat_vec.shape (987009,)\n",
      "validation_target_vec.shape (987009,)\n",
      "validation_feat_vec.shape (987009,)\n",
      "validation_target_vec.shape (987009,)\n",
      "validation_feat_vec.shape (986999,)\n",
      "validation_target_vec.shape (986999,)\n",
      "\n",
      "\n"
     ]
    }
   ],
   "source": [
    "base_dir = \"/home/rpezoa/experiment_data/\"\n",
    "output_dir = base_dir + \"output/probability/2+_1/f1/f1_13005_pix/\"\n",
    "images = [\"1+_20\", \"1+_25\", \"2+_1\", \"2+_8\", \"2+_9\", \"3+_19\"]\n",
    "seeds = [0,1,2,3,4,5,6,7,8,9]\n",
    "n_seeds = len(seeds)\n",
    "n_images = len(images)\n",
    "images_dir = [None] * n_images \n",
    "big_target_vector_path = [None] * n_images\n",
    "perc = \"0.05\"\n",
    "for i,im in enumerate(images):\n",
    "    print(\":::: Image :\", im, \"::::\")\n",
    "    if not os.path.exists(output_dir + im + \"/40_random_pix_\"+perc+\"_percentage/random/val_big_pred\"):\n",
    "        os.makedirs(output_dir + im + \"/40_random_pix_\"+perc+\"_percentage/random/val_big_pred\")\n",
    "    if not os.path.exists(output_dir + im + \"/40_random_pix_\"+perc+\"_percentage/random/val_labels\"):\n",
    "        os.makedirs(output_dir + im + \"/40_random_pix_\"+perc+\"_percentage/random/val_labels\")\n",
    "    if not os.path.exists(output_dir + im + \"/40_random_pix_\"+perc+\"_percentage/random/val_big_prob\"):\n",
    "        os.makedirs(output_dir + im + \"/40_random_pix_\"+perc+\"_percentage/random/val_big_prob\")\n",
    "    \n",
    "    target_vector = np.load(output_dir + im + \"/40_random_pix_\"+perc+\"_percentage/random/labels.npy\")\n",
    "    #print(\"target_vector.shape\", target_vector.shape)\n",
    "    for j,seed in enumerate(seeds): \n",
    "        feat_vector = np.load(output_dir + im + \"/40_random_pix_\"+perc+\"_percentage/random/big_pred/13005_size_\" + str(seed) + \"_seed_big_pred.npy\")\n",
    "        prob_vector = np.load(output_dir + im + \"/40_random_pix_\"+perc+\"_percentage/random/big_prob/13005_size_\" + str(seed) + \"_seed_big_prob.npy\")[:,1]\n",
    "        #print(\"feat_vector.shape\", feat_vector.shape)\n",
    "        idx_0 = np.load(output_dir + im + \"/40_random_pix_\"+perc+\"_percentage/random/random_pix_idx/13005_size_\" + str(seed) + \"_seed_idx_0.npy\")\n",
    "        idx_1 = np.load(output_dir + im + \"/40_random_pix_\"+perc+\"_percentage/random/random_pix_idx/13005_size_\" + str(seed) + \"_seed_idx_1.npy\")\n",
    "        idxs = np.concatenate((idx_0, idx_1),axis=0)\n",
    "        validation_feat_vec = np.delete(feat_vector,idxs)\n",
    "        validation_prob = np.delete(prob_vector,idxs)\n",
    "        print(\"validation_feat_vec.shape\", validation_feat_vec.shape)\n",
    "        validation_target_vec = np.delete(target_vector,idxs)\n",
    "        print(\"validation_target_vec.shape\", validation_target_vec.shape)\n",
    "        check_vector=np.load(output_dir + im + \"/40_random_pix_\"+perc+\"_percentage/random/feat_vectors_check/13005_size_\" + str(seed) + \"_seed_pixels.npy\")\n",
    "        train_vector=np.load(output_dir + im + \"/40_random_pix_\"+perc+\"_percentage/random/feat_vectors/13005_size_\" + str(seed) + \"_seed_pixels.npy\")\n",
    "        if check_vector.all()==train_vector.all():\n",
    "            np.save(output_dir + im + \"/40_random_pix_\"+perc+\"_percentage/random/val_big_pred/\"+str(j)+\".npy\",validation_feat_vec)\n",
    "            np.save(output_dir + im + \"/40_random_pix_\"+perc+\"_percentage/random/val_big_prob/\"+str(j)+\".npy\",validation_prob)\n",
    "            np.save(output_dir + im + \"/40_random_pix_\"+perc+\"_percentage/random/val_labels/\"+str(j)+\".npy\", validation_target_vec)\n",
    "        else:\n",
    "            print(\"There is a problem in seed \", j, \"!!!\")\n",
    "    print(\"\\n\")\n",
    "\n"
   ]
  },
  {
   "cell_type": "markdown",
   "metadata": {},
   "source": [
    "## Reading validation data and calculating performance metrics"
   ]
  },
  {
   "cell_type": "code",
   "execution_count": 121,
   "metadata": {
    "scrolled": true
   },
   "outputs": [
    {
     "name": "stdout",
     "output_type": "stream",
     "text": [
      ":::: Image : 1+_20 ::::\n",
      "\n",
      "(987005,)\n",
      "(987005,)\n",
      "\n",
      "(987000,)\n",
      "(987000,)\n",
      "\n",
      "(987006,)\n",
      "(987006,)\n",
      "\n",
      "(986999,)\n",
      "(986999,)\n",
      "\n",
      "(986997,)\n",
      "(986997,)\n",
      "\n",
      "(987002,)\n",
      "(987002,)\n",
      "\n",
      "(987002,)\n",
      "(987002,)\n",
      "\n",
      "(987002,)\n",
      "(987002,)\n",
      "\n",
      "(987011,)\n",
      "(987011,)\n",
      "\n",
      "(987002,)\n",
      "(987002,)\n",
      ":::: Image : 1+_25 ::::\n",
      "\n",
      "(987008,)\n",
      "(987008,)\n",
      "\n",
      "(987000,)\n",
      "(987000,)\n",
      "\n",
      "(987007,)\n",
      "(987007,)\n",
      "\n",
      "(987000,)\n",
      "(987000,)\n",
      "\n",
      "(986997,)\n",
      "(986997,)\n",
      "\n",
      "(987002,)\n",
      "(987002,)\n",
      "\n",
      "(987002,)\n",
      "(987002,)\n",
      "\n",
      "(987002,)\n",
      "(987002,)\n",
      "\n",
      "(987008,)\n",
      "(987008,)\n",
      "\n",
      "(987003,)\n",
      "(987003,)\n",
      ":::: Image : 2+_1 ::::\n",
      "\n",
      "(987002,)\n",
      "(987002,)\n",
      "\n",
      "(987006,)\n",
      "(987006,)\n",
      "\n",
      "(987001,)\n",
      "(987001,)\n",
      "\n",
      "(987005,)\n",
      "(987005,)\n",
      "\n",
      "(987001,)\n",
      "(987001,)\n",
      "\n",
      "(986999,)\n",
      "(986999,)\n",
      "\n",
      "(987001,)\n",
      "(987001,)\n",
      "\n",
      "(987004,)\n",
      "(987004,)\n",
      "\n",
      "(987007,)\n",
      "(987007,)\n",
      "\n",
      "(987001,)\n",
      "(987001,)\n",
      ":::: Image : 2+_8 ::::\n",
      "\n",
      "(987002,)\n",
      "(987002,)\n",
      "\n",
      "(987005,)\n",
      "(987005,)\n",
      "\n",
      "(987002,)\n",
      "(987002,)\n",
      "\n",
      "(987005,)\n",
      "(987005,)\n",
      "\n",
      "(987001,)\n",
      "(987001,)\n",
      "\n",
      "(987000,)\n",
      "(987000,)\n",
      "\n",
      "(987001,)\n",
      "(987001,)\n",
      "\n",
      "(987005,)\n",
      "(987005,)\n",
      "\n",
      "(987007,)\n",
      "(987007,)\n",
      "\n",
      "(987001,)\n",
      "(987001,)\n",
      ":::: Image : 2+_9 ::::\n",
      "\n",
      "(987002,)\n",
      "(987002,)\n",
      "\n",
      "(987000,)\n",
      "(987000,)\n",
      "\n",
      "(987003,)\n",
      "(987003,)\n",
      "\n",
      "(986998,)\n",
      "(986998,)\n",
      "\n",
      "(987000,)\n",
      "(987000,)\n",
      "\n",
      "(987004,)\n",
      "(987004,)\n",
      "\n",
      "(986999,)\n",
      "(986999,)\n",
      "\n",
      "(987001,)\n",
      "(987001,)\n",
      "\n",
      "(987005,)\n",
      "(987005,)\n",
      "\n",
      "(986997,)\n",
      "(986997,)\n",
      ":::: Image : 3+_19 ::::\n",
      "\n",
      "(987004,)\n",
      "(987004,)\n",
      "\n",
      "(987006,)\n",
      "(987006,)\n",
      "\n",
      "(987005,)\n",
      "(987005,)\n",
      "\n",
      "(987004,)\n",
      "(987004,)\n",
      "\n",
      "(987002,)\n",
      "(987002,)\n",
      "\n",
      "(987001,)\n",
      "(987001,)\n",
      "\n",
      "(987004,)\n",
      "(987004,)\n",
      "\n",
      "(987009,)\n",
      "(987009,)\n",
      "\n",
      "(987009,)\n",
      "(987009,)\n",
      "\n",
      "(986999,)\n",
      "(986999,)\n"
     ]
    }
   ],
   "source": [
    "all_im_metrics = [None] * n_images\n",
    "\n",
    "for i,im in enumerate(images):\n",
    "    print(\":::: Image :\", im, \"::::\")\n",
    "    metrics=[None] * n_seeds\n",
    "    for j,seed in enumerate(seeds): \n",
    "        val_vector = output_dir + im + \"/40_random_pix_\"+perc+\"_percentage/random/val_big_pred/\"+str(j)+\".npy\"\n",
    "        val_prob = output_dir + im + \"/40_random_pix_\"+perc+\"_percentage/random/val_big_prob/\"+str(j)+\".npy\"\n",
    "        val_label = np.load(output_dir + im + \"/40_random_pix_\"+perc+\"_percentage/random/val_labels/\"+str(j)+\".npy\")\n",
    "        metrics[j] = get_metric_array(val_vector,val_prob, val_label, n_seeds)\n",
    "        #print(\"val_vector.shape\", val_vector.shape)\n",
    "        #print(\"val_label.shape\", val_label.shape)\n",
    "    all_im_metrics[i] = metrics\n",
    "        "
   ]
  },
  {
   "cell_type": "code",
   "execution_count": 122,
   "metadata": {},
   "outputs": [],
   "source": [
    "roc_matrix = np.zeros((n_seeds,n_images))\n",
    "acc_matrix = np.zeros((n_seeds,n_images))\n",
    "rec_matrix = np.zeros((n_seeds,n_images))\n",
    "roc_p_matrix = np.zeros((n_seeds,n_images))\n",
    "f1_matrix = np.zeros((n_seeds,n_images))\n",
    "prec_rec_matrix = np.zeros((n_seeds,n_images))\n",
    "prec_matrix = np.zeros((n_seeds,n_images))\n",
    "prec_n_matrix = np.zeros((n_seeds,n_images))\n",
    "fpr = np.zeros((n_seeds,n_images))\n",
    "tpr = np.zeros((n_seeds,n_images))\n",
    "\n",
    "for i in range(n_images):\n",
    "    for j in range(n_seeds):\n",
    "        if all_im_metrics[i][j] is not None:\n",
    "            roc_matrix[j,i] = all_im_metrics[i][j][\"roc\"]\n",
    "            roc_p_matrix[j,i] = all_im_metrics[i][j][\"roc_prob\"]\n",
    "            acc_matrix[j,i] = all_im_metrics[i][j][\"acc\"]\n",
    "            rec_matrix[j,i] = all_im_metrics[i][j][\"acc\"]\n",
    "            f1_matrix[j,i] = all_im_metrics[i][j][\"f1\"]\n",
    "            prec_rec_matrix[j,i] = all_im_metrics[i][j][\"prec_rec\"]\n",
    "            prec_matrix[j,i] = all_im_metrics[i][j][\"prec\"]\n",
    "            prec_n_matrix[j,i] = all_im_metrics[i][j][\"prec_n\"]"
   ]
  },
  {
   "cell_type": "code",
   "execution_count": 123,
   "metadata": {},
   "outputs": [
    {
     "data": {
      "text/plain": [
       "array([[ 0.27827279,  0.23494907,  0.29762447,  0.33551248,  0.48582618,\n",
       "         0.33506826],\n",
       "       [ 0.31502674,  0.24175213,  0.28464529,  0.34371744,  0.49206211,\n",
       "         0.34767469],\n",
       "       [ 0.27864297,  0.23125509,  0.30926339,  0.34283509,  0.47128464,\n",
       "         0.33492311],\n",
       "       [ 0.33401833,  0.21359309,  0.28142589,  0.34509963,  0.46253854,\n",
       "         0.33993748],\n",
       "       [ 0.32014985,  0.24890316,  0.27866724,  0.34516666,  0.49556023,\n",
       "         0.35208904],\n",
       "       [ 0.30043971,  0.22566061,  0.27730707,  0.33473533,  0.50187523,\n",
       "         0.32732341],\n",
       "       [ 0.31270331,  0.22543002,  0.30031728,  0.34437122,  0.51502766,\n",
       "         0.35091078],\n",
       "       [ 0.29453922,  0.21570233,  0.32518199,  0.34447232,  0.48381305,\n",
       "         0.32685956],\n",
       "       [ 0.3005665 ,  0.19855889,  0.32532059,  0.33998667,  0.49625886,\n",
       "         0.33120104],\n",
       "       [ 0.29599121,  0.20495154,  0.29275919,  0.33579326,  0.50199661,\n",
       "         0.3368548 ]])"
      ]
     },
     "execution_count": 123,
     "metadata": {},
     "output_type": "execute_result"
    }
   ],
   "source": [
    "f1_matrix"
   ]
  },
  {
   "cell_type": "code",
   "execution_count": 124,
   "metadata": {
    "collapsed": true
   },
   "outputs": [],
   "source": [
    "def show_box_plot(title,ylabel, data):\n",
    "    \n",
    "    plt.figure()\n",
    "    n_seeds,n_images = data.shape\n",
    "    data_list = [None] * n_images\n",
    "    \n",
    "    for i in range(n_images):\n",
    "        mask = data[:,i] == 0\n",
    "        new_data = data[:,i][np.invert(mask)]\n",
    "        data_list[i] = new_data\n",
    "    #print(data_list)    \n",
    "    bp = plt.boxplot(data_list)\n",
    "    plt.title(title)\n",
    "    plt.grid()\n",
    "    plt.xlabel(\"Image Id.\")\n",
    "    plt.ylabel(ylabel)\n",
    "    \n",
    "    for line in bp['medians']:\n",
    "    # get position data for median line\n",
    "        x, y = line.get_xydata()[1] # top of median line\n",
    "        median_val = line.get_ydata()\n",
    "        #print(median_val[0])\n",
    "        #print(\"x,y\",x,y)\n",
    "        # overlay median value\n",
    "        plt.text(x+0.30, y, '%.2f' % median_val[0],\n",
    "             horizontalalignment='center') # draw above, centered\n",
    "    plt.show()\n",
    " "
   ]
  },
  {
   "cell_type": "code",
   "execution_count": 142,
   "metadata": {},
   "outputs": [
    {
     "data": {
      "image/png": "[encoded data removed]",
      "text/plain": [
       "<matplotlib.figure.Figure at 0x7f1fad73cac8>"
      ]
     },
     "metadata": {},
     "output_type": "display_data"
    }
   ],
   "source": [
    "show_box_plot(\"Random Pixels, 5$\\%$\", \"F1\", f1_matrix)"
   ]
  },
  {
   "cell_type": "code",
   "execution_count": 148,
   "metadata": {},
   "outputs": [
    {
     "data": {
      "text/plain": [
       "array([ 0.48582618,  0.49206211,  0.47128464,  0.46253854,  0.49556023,\n",
       "        0.50187523,  0.51502766,  0.48381305,  0.49625886,  0.50199661])"
      ]
     },
     "execution_count": 148,
     "metadata": {},
     "output_type": "execute_result"
    }
   ],
   "source": [
    "f1_matrix[:,4]"
   ]
  },
  {
   "cell_type": "code",
   "execution_count": 149,
   "metadata": {},
   "outputs": [
    {
     "data": {
      "text/plain": [
       "array([ 0.34316253,  0.37282133,  0.32242226,  0.32359638,  0.39122465,\n",
       "        0.41886476,  0.37657677,  0.34068956,  0.35541359,  0.40054038])"
      ]
     },
     "execution_count": 149,
     "metadata": {},
     "output_type": "execute_result"
    }
   ],
   "source": [
    "prec_matrix[:,4]"
   ]
  },
  {
   "cell_type": "code",
   "execution_count": null,
   "metadata": {
    "collapsed": true
   },
   "outputs": [],
   "source": []
  },
  {
   "cell_type": "code",
   "execution_count": 126,
   "metadata": {},
   "outputs": [],
   "source": [
    "f1_median = np.median(f1_matrix, axis=0)"
   ]
  },
  {
   "cell_type": "code",
   "execution_count": 152,
   "metadata": {},
   "outputs": [
    {
     "data": {
      "text/plain": [
       "0.33238153623195915"
      ]
     },
     "execution_count": 152,
     "metadata": {},
     "output_type": "execute_result"
    }
   ],
   "source": [
    "f1_median.mean()"
   ]
  },
  {
   "cell_type": "code",
   "execution_count": 128,
   "metadata": {
    "collapsed": true
   },
   "outputs": [],
   "source": [
    "np.save(output_dir + \"random_pix_val_f1_median.npy\", f1_median)"
   ]
  },
  {
   "cell_type": "code",
   "execution_count": 143,
   "metadata": {},
   "outputs": [
    {
     "data": {
      "image/png": "[encoded data removed]",
      "text/plain": [
       "<matplotlib.figure.Figure at 0x7f1fad51dc88>"
      ]
     },
     "metadata": {},
     "output_type": "display_data"
    }
   ],
   "source": [
    "show_box_plot(\"Random Pixels, 5$\\%$\", \"Precision\", prec_matrix)"
   ]
  },
  {
   "cell_type": "code",
   "execution_count": 150,
   "metadata": {},
   "outputs": [
    {
     "data": {
      "text/plain": [
       "array([ 0.34316253,  0.37282133,  0.32242226,  0.32359638,  0.39122465,\n",
       "        0.41886476,  0.37657677,  0.34068956,  0.35541359,  0.40054038])"
      ]
     },
     "execution_count": 150,
     "metadata": {},
     "output_type": "execute_result"
    }
   ],
   "source": [
    "prec_matrix[:,4]"
   ]
  },
  {
   "cell_type": "code",
   "execution_count": 151,
   "metadata": {},
   "outputs": [
    {
     "data": {
      "text/plain": [
       "array([ 0.48582618,  0.49206211,  0.47128464,  0.46253854,  0.49556023,\n",
       "        0.50187523,  0.51502766,  0.48381305,  0.49625886,  0.50199661])"
      ]
     },
     "execution_count": 151,
     "metadata": {},
     "output_type": "execute_result"
    }
   ],
   "source": [
    "f1_matrix[:,4]"
   ]
  },
  {
   "cell_type": "code",
   "execution_count": 130,
   "metadata": {
    "collapsed": true
   },
   "outputs": [],
   "source": [
    "prec_median = np.median(prec_matrix, axis=0)"
   ]
  },
  {
   "cell_type": "code",
   "execution_count": 131,
   "metadata": {},
   "outputs": [
    {
     "data": {
      "text/plain": [
       "array([ 0.1834262 ,  0.13576688,  0.18411767,  0.23092781,  0.36411746,\n",
       "        0.21738169])"
      ]
     },
     "execution_count": 131,
     "metadata": {},
     "output_type": "execute_result"
    }
   ],
   "source": [
    "prec_median"
   ]
  },
  {
   "cell_type": "code",
   "execution_count": null,
   "metadata": {
    "collapsed": true
   },
   "outputs": [],
   "source": [
    "prec_matrix"
   ]
  },
  {
   "cell_type": "code",
   "execution_count": 132,
   "metadata": {
    "collapsed": true
   },
   "outputs": [],
   "source": [
    "np.save(output_dir + \"random_pix_val_prec_median.npy\", prec_median)"
   ]
  },
  {
   "cell_type": "code",
   "execution_count": 144,
   "metadata": {},
   "outputs": [
    {
     "data": {
      "image/png": "[encoded data removed]",
      "text/plain": [
       "<matplotlib.figure.Figure at 0x7f1fad46e898>"
      ]
     },
     "metadata": {},
     "output_type": "display_data"
    }
   ],
   "source": [
    "show_box_plot(\"Random Pixels, 5$\\%$\", \"PR AUC\", prec_rec_matrix)"
   ]
  },
  {
   "cell_type": "code",
   "execution_count": 140,
   "metadata": {
    "collapsed": true
   },
   "outputs": [],
   "source": [
    "pr_median= np.median(prec_rec_matrix, axis=0)"
   ]
  },
  {
   "cell_type": "code",
   "execution_count": 141,
   "metadata": {
    "collapsed": true
   },
   "outputs": [],
   "source": [
    "np.save(output_dir + \"random_pix_val_pr_median.npy\", pr_median)"
   ]
  },
  {
   "cell_type": "code",
   "execution_count": 145,
   "metadata": {},
   "outputs": [
    {
     "data": {
      "image/png": "[encoded data removed]",
      "text/plain": [
       "<matplotlib.figure.Figure at 0x7f1fad583438>"
      ]
     },
     "metadata": {},
     "output_type": "display_data"
    }
   ],
   "source": [
    "show_box_plot(\"Random Pixels, 5$\\%$\", \"ROC AUC\", roc_p_matrix)"
   ]
  },
  {
   "cell_type": "code",
   "execution_count": 136,
   "metadata": {
    "collapsed": true
   },
   "outputs": [],
   "source": [
    "roc_median = np.median(roc_p_matrix, axis=0)"
   ]
  },
  {
   "cell_type": "code",
   "execution_count": 137,
   "metadata": {},
   "outputs": [
    {
     "data": {
      "text/plain": [
       "array([ 0.97094527,  0.92939155,  0.9334135 ,  0.9453537 ,  0.91938827,\n",
       "        0.90942725])"
      ]
     },
     "execution_count": 137,
     "metadata": {},
     "output_type": "execute_result"
    }
   ],
   "source": [
    "roc_median"
   ]
  },
  {
   "cell_type": "code",
   "execution_count": 139,
   "metadata": {
    "collapsed": true
   },
   "outputs": [],
   "source": [
    "np.save(output_dir + \"random_pix_val_roc_median.npy\", roc_median)"
   ]
  },
  {
   "cell_type": "code",
   "execution_count": null,
   "metadata": {
    "collapsed": true
   },
   "outputs": [],
   "source": []
  }
 ],
 "metadata": {
  "anaconda-cloud": {},
  "kernelspec": {
   "display_name": "Python 3",
   "language": "python",
   "name": "python3"
  },
  "language_info": {
   "codemirror_mode": {
    "name": "ipython",
    "version": 3
   },
   "file_extension": ".py",
   "mimetype": "text/x-python",
   "name": "python",
   "nbconvert_exporter": "python",
   "pygments_lexer": "ipython3",
   "version": "3.6.1"
  }
 },
 "nbformat": 4,
 "nbformat_minor": 1
}
